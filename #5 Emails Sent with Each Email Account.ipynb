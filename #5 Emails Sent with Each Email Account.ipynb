{
 "cells": [
  {
   "cell_type": "markdown",
   "id": "866ae7f4",
   "metadata": {},
   "source": [
    "# Emails Sent by Kenneth Lay to CSV"
   ]
  },
  {
   "cell_type": "code",
   "execution_count": 1,
   "id": "40e3059f",
   "metadata": {},
   "outputs": [],
   "source": [
    "import os\n",
    "import pandas as pd\n",
    "from datetime import datetime"
   ]
  },
  {
   "cell_type": "code",
   "execution_count": 3,
   "id": "3ca8f2bb",
   "metadata": {},
   "outputs": [],
   "source": [
    "kl = pd.read_csv('kenneth_lay.csv')\n",
    "kl = kl[['from_email', 'message_id', 'to_email', 'date', 'subject', 'body']]"
   ]
  },
  {
   "cell_type": "code",
   "execution_count": 4,
   "id": "245dde96",
   "metadata": {},
   "outputs": [
    {
     "data": {
      "text/html": [
       "<div>\n",
       "<style scoped>\n",
       "    .dataframe tbody tr th:only-of-type {\n",
       "        vertical-align: middle;\n",
       "    }\n",
       "\n",
       "    .dataframe tbody tr th {\n",
       "        vertical-align: top;\n",
       "    }\n",
       "\n",
       "    .dataframe thead th {\n",
       "        text-align: right;\n",
       "    }\n",
       "</style>\n",
       "<table border=\"1\" class=\"dataframe\">\n",
       "  <thead>\n",
       "    <tr style=\"text-align: right;\">\n",
       "      <th></th>\n",
       "      <th>from_email</th>\n",
       "      <th>message_id</th>\n",
       "      <th>to_email</th>\n",
       "      <th>date</th>\n",
       "      <th>subject</th>\n",
       "      <th>body</th>\n",
       "    </tr>\n",
       "  </thead>\n",
       "  <tbody>\n",
       "    <tr>\n",
       "      <th>0</th>\n",
       "      <td>rosalee.fleming@enron.com</td>\n",
       "      <td>&lt;4353541.1075840278810.JavaMail.evans@thyme&gt;</td>\n",
       "      <td>david.haug@enron.com</td>\n",
       "      <td>Wed, 13 Dec 2000 06:38:00 -0800 (PST)</td>\n",
       "      <td>Re: Succession Plan</td>\n",
       "      <td>['We', 'did', 'receive', 'this', 'from', 'Davi...</td>\n",
       "    </tr>\n",
       "    <tr>\n",
       "      <th>1</th>\n",
       "      <td>rosalee.fleming@enron.com</td>\n",
       "      <td>&lt;7918822.1075840279079.JavaMail.evans@thyme&gt;</td>\n",
       "      <td>ealvittor@yahoo.com</td>\n",
       "      <td>Tue, 28 Nov 2000 01:22:00 -0800 (PST)</td>\n",
       "      <td>Rocky Carroll</td>\n",
       "      <td>['Hi', 'Liz', '-', 'I', 'had', 'a', 'very', 'i...</td>\n",
       "    </tr>\n",
       "  </tbody>\n",
       "</table>\n",
       "</div>"
      ],
      "text/plain": [
       "                   from_email                                     message_id  \\\n",
       "0   rosalee.fleming@enron.com   <4353541.1075840278810.JavaMail.evans@thyme>   \n",
       "1   rosalee.fleming@enron.com   <7918822.1075840279079.JavaMail.evans@thyme>   \n",
       "\n",
       "               to_email                                    date  \\\n",
       "0  david.haug@enron.com   Wed, 13 Dec 2000 06:38:00 -0800 (PST)   \n",
       "1   ealvittor@yahoo.com   Tue, 28 Nov 2000 01:22:00 -0800 (PST)   \n",
       "\n",
       "                subject                                               body  \n",
       "0   Re: Succession Plan  ['We', 'did', 'receive', 'this', 'from', 'Davi...  \n",
       "1         Rocky Carroll  ['Hi', 'Liz', '-', 'I', 'had', 'a', 'very', 'i...  "
      ]
     },
     "execution_count": 4,
     "metadata": {},
     "output_type": "execute_result"
    }
   ],
   "source": [
    "kl.head(2)"
   ]
  },
  {
   "cell_type": "code",
   "execution_count": 5,
   "id": "8441aff2",
   "metadata": {},
   "outputs": [],
   "source": [
    "kl_accounts = list(kl['from_email'].unique())"
   ]
  },
  {
   "cell_type": "code",
   "execution_count": 6,
   "id": "6aed9278",
   "metadata": {},
   "outputs": [
    {
     "data": {
      "text/plain": [
       "[' rosalee.fleming@enron.com',\n",
       " ' tori.wells@enron.com',\n",
       " \"'\",\n",
       " ' kenneth.lay@enron.com']"
      ]
     },
     "execution_count": 6,
     "metadata": {},
     "output_type": "execute_result"
    }
   ],
   "source": [
    "# found accounts\n",
    "kl_accounts"
   ]
  },
  {
   "cell_type": "code",
   "execution_count": 17,
   "id": "da048dda",
   "metadata": {},
   "outputs": [],
   "source": [
    "formatted = []\n",
    "for day in kl['date']:\n",
    "    try:\n",
    "        formatted.append(day[day.indeformatted(',')+2:][:11].strip())\n",
    "    except:\n",
    "        formatted.append(str(day))\n",
    "\n",
    "kl['day'] = formatted\n",
    "\n",
    "dt = []\n",
    "for day in list(kl['day']):\n",
    "    try:\n",
    "        dt.append(datetime.strptime(day.strip(), '%d %b %Y'))\n",
    "    except:\n",
    "        dt.append(day)\n",
    "        \n",
    "kl['datetime'] = dt\n",
    "kl = kl[kl['datetime'] != \" 'TV'\"]\n",
    "kld = kl.sort_values('datetime')"
   ]
  },
  {
   "cell_type": "code",
   "execution_count": 18,
   "id": "71bac050",
   "metadata": {},
   "outputs": [],
   "source": [
    "#kld = kl.sort_values('datetime')\n",
    "freq = kld.groupby(['datetime']).count()\n",
    "freq = freq.reset_index()\n",
    "freq = freq[['datetime', 'from_email']]"
   ]
  },
  {
   "cell_type": "code",
   "execution_count": 19,
   "id": "e2108b99",
   "metadata": {},
   "outputs": [
    {
     "data": {
      "text/html": [
       "<div>\n",
       "<style scoped>\n",
       "    .dataframe tbody tr th:only-of-type {\n",
       "        vertical-align: middle;\n",
       "    }\n",
       "\n",
       "    .dataframe tbody tr th {\n",
       "        vertical-align: top;\n",
       "    }\n",
       "\n",
       "    .dataframe thead th {\n",
       "        text-align: right;\n",
       "    }\n",
       "</style>\n",
       "<table border=\"1\" class=\"dataframe\">\n",
       "  <thead>\n",
       "    <tr style=\"text-align: right;\">\n",
       "      <th></th>\n",
       "      <th>datetime</th>\n",
       "      <th>from_email</th>\n",
       "    </tr>\n",
       "  </thead>\n",
       "  <tbody>\n",
       "    <tr>\n",
       "      <th>0</th>\n",
       "      <td>Fri, 11 Aug 2000 02:13:00 -0700 (PDT)</td>\n",
       "      <td>1</td>\n",
       "    </tr>\n",
       "    <tr>\n",
       "      <th>1</th>\n",
       "      <td>Fri, 11 May 2001 00:18:00 -0700 (PDT)</td>\n",
       "      <td>1</td>\n",
       "    </tr>\n",
       "    <tr>\n",
       "      <th>2</th>\n",
       "      <td>Fri, 11 May 2001 07:09:00 -0700 (PDT)</td>\n",
       "      <td>1</td>\n",
       "    </tr>\n",
       "    <tr>\n",
       "      <th>3</th>\n",
       "      <td>Fri, 14 Apr 2000 08:25:00 -0700 (PDT)</td>\n",
       "      <td>3</td>\n",
       "    </tr>\n",
       "    <tr>\n",
       "      <th>4</th>\n",
       "      <td>Fri, 14 Apr 2000 11:11:00 -0700 (PDT)</td>\n",
       "      <td>1</td>\n",
       "    </tr>\n",
       "    <tr>\n",
       "      <th>5</th>\n",
       "      <td>Fri, 14 Jul 2000 02:22:00 -0700 (PDT)</td>\n",
       "      <td>1</td>\n",
       "    </tr>\n",
       "    <tr>\n",
       "      <th>6</th>\n",
       "      <td>Fri, 14 Jul 2000 07:17:00 -0700 (PDT)</td>\n",
       "      <td>2</td>\n",
       "    </tr>\n",
       "    <tr>\n",
       "      <th>7</th>\n",
       "      <td>Fri, 16 Feb 2001 10:07:00 -0800 (PST)</td>\n",
       "      <td>1</td>\n",
       "    </tr>\n",
       "    <tr>\n",
       "      <th>8</th>\n",
       "      <td>Fri, 16 Jun 2000 01:45:00 -0700 (PDT)</td>\n",
       "      <td>3</td>\n",
       "    </tr>\n",
       "    <tr>\n",
       "      <th>9</th>\n",
       "      <td>Fri, 16 Mar 2001 00:32:00 -0800 (PST)</td>\n",
       "      <td>1</td>\n",
       "    </tr>\n",
       "  </tbody>\n",
       "</table>\n",
       "</div>"
      ],
      "text/plain": [
       "                                 datetime  from_email\n",
       "0   Fri, 11 Aug 2000 02:13:00 -0700 (PDT)           1\n",
       "1   Fri, 11 May 2001 00:18:00 -0700 (PDT)           1\n",
       "2   Fri, 11 May 2001 07:09:00 -0700 (PDT)           1\n",
       "3   Fri, 14 Apr 2000 08:25:00 -0700 (PDT)           3\n",
       "4   Fri, 14 Apr 2000 11:11:00 -0700 (PDT)           1\n",
       "5   Fri, 14 Jul 2000 02:22:00 -0700 (PDT)           1\n",
       "6   Fri, 14 Jul 2000 07:17:00 -0700 (PDT)           2\n",
       "7   Fri, 16 Feb 2001 10:07:00 -0800 (PST)           1\n",
       "8   Fri, 16 Jun 2000 01:45:00 -0700 (PDT)           3\n",
       "9   Fri, 16 Mar 2001 00:32:00 -0800 (PST)           1"
      ]
     },
     "execution_count": 19,
     "metadata": {},
     "output_type": "execute_result"
    }
   ],
   "source": [
    "freq.head(10)"
   ]
  },
  {
   "cell_type": "code",
   "execution_count": 22,
   "id": "8a8712db",
   "metadata": {},
   "outputs": [
    {
     "data": {
      "application/vnd.plotly.v1+json": {
       "config": {
        "plotlyServerURL": "https://plot.ly"
       },
       "data": [
        {
         "type": "bar",
         "x": [
          " Fri, 11 Aug 2000 02:13:00 -0700 (PDT)",
          " Fri, 11 May 2001 00:18:00 -0700 (PDT)",
          " Fri, 11 May 2001 07:09:00 -0700 (PDT)",
          " Fri, 14 Apr 2000 08:25:00 -0700 (PDT)",
          " Fri, 14 Apr 2000 11:11:00 -0700 (PDT)",
          " Fri, 14 Jul 2000 02:22:00 -0700 (PDT)",
          " Fri, 14 Jul 2000 07:17:00 -0700 (PDT)",
          " Fri, 16 Feb 2001 10:07:00 -0800 (PST)",
          " Fri, 16 Jun 2000 01:45:00 -0700 (PDT)",
          " Fri, 16 Mar 2001 00:32:00 -0800 (PST)",
          " Fri, 16 Mar 2001 05:56:00 -0800 (PST)",
          " Fri, 2 Jul 1999 03:34:00 -0700 (PDT)",
          " Fri, 2 Jul 1999 03:36:00 -0700 (PDT)",
          " Fri, 2 Jun 2000 10:44:00 -0700 (PDT)",
          " Fri, 2 Jun 2000 10:55:00 -0700 (PDT)",
          " Fri, 21 Apr 2000 04:37:00 -0700 (PDT)",
          " Fri, 21 Apr 2000 06:23:00 -0700 (PDT)",
          " Fri, 23 Mar 2001 07:07:00 -0800 (PST)",
          " Fri, 23 Mar 2001 07:34:00 -0800 (PST)",
          " Fri, 23 Mar 2001 09:35:00 -0800 (PST)",
          " Fri, 25 Aug 2000 08:15:00 -0700 (PDT)",
          " Fri, 26 May 2000 03:03:00 -0700 (PDT)",
          " Fri, 26 May 2000 08:05:00 -0700 (PDT)",
          " Fri, 27 Apr 2001 03:27:00 -0700 (PDT)",
          " Fri, 28 Apr 2000 08:53:00 -0700 (PDT)",
          " Fri, 3 Mar 2000 09:36:00 -0800 (PST)",
          " Fri, 4 Aug 2000 05:40:00 -0700 (PDT)",
          " Fri, 4 Aug 2000 08:52:00 -0700 (PDT)",
          " Fri, 4 Aug 2000 09:04:00 -0700 (PDT)",
          " Fri, 5 May 2000 01:45:00 -0700 (PDT)",
          " Fri, 7 Apr 2000 03:58:00 -0700 (PDT)",
          " Fri, 8 Sep 2000 07:02:00 -0700 (PDT)",
          " Fri, 8 Sep 2000 11:26:00 -0700 (PDT)",
          " Fri, 8 Sep 2000 12:01:00 -0700 (PDT)",
          " Fri, 8 Sep 2000 12:08:00 -0700 (PDT)",
          " Fri, 8 Sep 2000 12:09:00 -0700 (PDT)",
          " Fri, 8 Sep 2000 12:10:00 -0700 (PDT)",
          " Mon, 10 Jul 2000 00:59:00 -0700 (PDT)",
          " Mon, 10 Jul 2000 07:00:00 -0700 (PDT)",
          " Mon, 10 Jul 2000 11:28:00 -0700 (PDT)",
          " Mon, 10 Jul 2000 11:41:00 -0700 (PDT)",
          " Mon, 11 Dec 2000 02:49:00 -0800 (PST)",
          " Mon, 11 Dec 2000 06:39:00 -0800 (PST)",
          " Mon, 11 Dec 2000 09:04:00 -0800 (PST)",
          " Mon, 11 Sep 2000 02:16:00 -0700 (PDT)",
          " Mon, 12 Jun 2000 23:51:00 -0700 (PDT)",
          " Mon, 12 Mar 2001 07:24:00 -0800 (PST)",
          " Mon, 12 Mar 2001 07:25:00 -0800 (PST)",
          " Mon, 14 May 2001 07:27:00 -0700 (PDT)",
          " Mon, 15 May 2000 10:36:00 -0700 (PDT)",
          " Mon, 15 May 2000 10:37:00 -0700 (PDT)",
          " Mon, 16 Apr 2001 04:18:00 -0700 (PDT)",
          " Mon, 16 Apr 2001 04:19:00 -0700 (PDT)",
          " Mon, 16 Apr 2001 08:42:00 -0700 (PDT)",
          " Mon, 16 Apr 2001 09:52:00 -0700 (PDT)",
          " Mon, 16 Aug 1999 02:17:00 -0700 (PDT)",
          " Mon, 17 Jan 2000 09:35:00 -0800 (PST)",
          " Mon, 17 Jan 2000 09:40:00 -0800 (PST)",
          " Mon, 17 Jul 2000 06:14:00 -0700 (PDT)",
          " Mon, 19 Mar 2001 01:27:00 -0800 (PST)",
          " Mon, 19 Mar 2001 01:28:00 -0800 (PST)",
          " Mon, 19 Mar 2001 03:28:00 -0800 (PST)",
          " Mon, 19 Mar 2001 03:34:00 -0800 (PST)",
          " Mon, 19 Mar 2001 06:26:00 -0800 (PST)",
          " Mon, 19 Mar 2001 07:32:00 -0800 (PST)",
          " Mon, 2 Apr 2001 03:55:00 -0700 (PDT)",
          " Mon, 2 Apr 2001 11:17:00 -0700 (PDT)",
          " Mon, 2 Oct 2000 03:27:00 -0700 (PDT)",
          " Mon, 2 Oct 2000 09:54:00 -0700 (PDT)",
          " Mon, 20 Nov 2000 03:42:00 -0800 (PST)",
          " Mon, 20 Nov 2000 04:48:00 -0800 (PST)",
          " Mon, 20 Nov 2000 04:50:00 -0800 (PST)",
          " Mon, 21 Aug 2000 05:18:00 -0700 (PDT)",
          " Mon, 21 Aug 2000 09:35:00 -0700 (PDT)",
          " Mon, 22 May 2000 03:38:00 -0700 (PDT)",
          " Mon, 24 Jul 2000 08:11:00 -0700 (PDT)",
          " Mon, 25 Sep 2000 03:39:00 -0700 (PDT)",
          " Mon, 26 Mar 2001 02:25:00 -0800 (PST)",
          " Mon, 26 Mar 2001 09:15:00 -0800 (PST)",
          " Mon, 26 Mar 2001 10:12:00 -0800 (PST)",
          " Mon, 27 Nov 2000 01:13:00 -0800 (PST)",
          " Mon, 28 Aug 2000 10:14:00 -0700 (PDT)",
          " Mon, 3 Apr 2000 08:45:00 -0700 (PDT)",
          " Mon, 3 Apr 2000 09:41:00 -0700 (PDT)",
          " Mon, 3 Apr 2000 12:19:00 -0700 (PDT)",
          " Mon, 30 Apr 2001 01:09:00 -0700 (PDT)",
          " Mon, 30 Apr 2001 05:56:00 -0700 (PDT)",
          " Mon, 30 Apr 2001 06:15:00 -0700 (PDT)",
          " Mon, 30 Apr 2001 06:59:00 -0700 (PDT)",
          " Mon, 30 Apr 2001 09:51:00 -0700 (PDT)",
          " Mon, 30 Apr 2001 23:12:00 -0700 (PDT)",
          " Mon, 30 Apr 2001 23:17:00 -0700 (PDT)",
          " Mon, 30 Apr 2001 23:28:00 -0700 (PDT)",
          " Mon, 30 Apr 2001 23:30:00 -0700 (PDT)",
          " Mon, 30 Oct 2000 03:02:00 -0800 (PST)",
          " Mon, 30 Oct 2000 23:48:00 -0800 (PST)",
          " Mon, 31 Jul 2000 09:40:00 -0700 (PDT)",
          " Mon, 5 Jun 2000 06:35:00 -0700 (PDT)",
          " Mon, 6 Nov 2000 01:55:00 -0800 (PST)",
          " Mon, 6 Nov 2000 09:27:00 -0800 (PST)",
          " Mon, 6 Nov 2000 23:06:00 -0800 (PST)",
          " Mon, 9 Apr 2001 06:04:00 -0700 (PDT)",
          " Mon, 9 Apr 2001 09:53:00 -0700 (PDT)",
          " Sat, 1 Jul 2000 15:13:00 -0700 (PDT)",
          " Sat, 12 Feb 2000 01:33:00 -0800 (PST)",
          " Sat, 15 Apr 2000 12:05:00 -0700 (PDT)",
          " Sun, 10 Sep 2000 23:23:00 -0700 (PDT)",
          " Sun, 25 Feb 2001 20:16:00 -0800 (PST)",
          " Sun, 27 Feb 2000 09:14:00 -0800 (PST)",
          " Thu, 1 Jun 2000 02:20:00 -0700 (PDT)",
          " Thu, 1 Mar 2001 23:59:00 -0800 (PST)",
          " Thu, 10 Aug 2000 01:58:00 -0700 (PDT)",
          " Thu, 10 Aug 2000 03:20:00 -0700 (PDT)",
          " Thu, 10 Aug 2000 03:27:00 -0700 (PDT)",
          " Thu, 12 Apr 2001 09:54:00 -0700 (PDT)",
          " Thu, 12 Apr 2001 11:49:00 -0700 (PDT)",
          " Thu, 12 Oct 2000 05:58:00 -0700 (PDT)",
          " Thu, 14 Sep 2000 09:53:00 -0700 (PDT)",
          " Thu, 15 Mar 2001 03:01:00 -0800 (PST)",
          " Thu, 15 Mar 2001 03:41:00 -0800 (PST)",
          " Thu, 15 Mar 2001 05:42:00 -0800 (PST)",
          " Thu, 15 Mar 2001 08:22:00 -0800 (PST)",
          " Thu, 17 Feb 2000 01:02:00 -0800 (PST)",
          " Thu, 17 Feb 2000 05:00:00 -0800 (PST)",
          " Thu, 18 May 2000 01:25:00 -0700 (PDT)",
          " Thu, 19 Apr 2001 11:37:00 -0700 (PDT)",
          " Thu, 19 Aug 1999 02:18:00 -0700 (PDT)",
          " Thu, 20 Jan 2000 03:17:00 -0800 (PST)",
          " Thu, 21 Sep 2000 01:41:00 -0700 (PDT)",
          " Thu, 21 Sep 2000 09:10:00 -0700 (PDT)",
          " Thu, 22 Mar 2001 01:42:00 -0800 (PST)",
          " Thu, 22 Mar 2001 23:04:00 -0800 (PST)",
          " Thu, 22 Mar 2001 23:05:00 -0800 (PST)",
          " Thu, 22 Mar 2001 23:06:00 -0800 (PST)",
          " Thu, 22 Mar 2001 23:07:00 -0800 (PST)",
          " Thu, 22 Mar 2001 23:08:00 -0800 (PST)",
          " Thu, 25 May 2000 01:43:00 -0700 (PDT)",
          " Thu, 25 May 2000 04:34:00 -0700 (PDT)",
          " Thu, 26 Oct 2000 00:25:00 -0700 (PDT)",
          " Thu, 27 Jan 2000 10:27:00 -0800 (PST)",
          " Thu, 28 Sep 2000 08:14:00 -0700 (PDT)",
          " Thu, 28 Sep 2000 08:15:00 -0700 (PDT)",
          " Thu, 29 Mar 2001 10:05:00 -0800 (PST)",
          " Thu, 3 Aug 2000 06:37:00 -0700 (PDT)",
          " Thu, 3 May 2001 01:52:00 -0700 (PDT)",
          " Thu, 3 May 2001 05:46:00 -0700 (PDT)",
          " Thu, 3 May 2001 06:11:00 -0700 (PDT)",
          " Thu, 3 May 2001 11:31:00 -0700 (PDT)",
          " Thu, 30 Nov 2000 01:36:00 -0800 (PST)",
          " Thu, 30 Nov 2000 10:27:00 -0800 (PST)",
          " Thu, 5 Apr 2001 09:40:00 -0700 (PDT)",
          " Thu, 5 Apr 2001 11:21:00 -0700 (PDT)",
          " Thu, 5 Apr 2001 11:41:00 -0700 (PDT)",
          " Thu, 7 Dec 2000 04:49:00 -0800 (PST)",
          " Thu, 9 Nov 2000 01:58:00 -0800 (PST)",
          " Thu, 9 Nov 2000 20:31:00 -0800 (PST)",
          " Tue, 1 Aug 2000 07:57:00 -0700 (PDT)",
          " Tue, 1 Feb 2000 22:04:00 -0800 (PST)",
          " Tue, 1 May 2001 00:57:00 -0700 (PDT)",
          " Tue, 1 May 2001 01:00:00 -0700 (PDT)",
          " Tue, 10 Apr 2001 02:16:00 -0700 (PDT)",
          " Tue, 11 Apr 2000 05:17:00 -0700 (PDT)",
          " Tue, 11 Apr 2000 07:25:00 -0700 (PDT)",
          " Tue, 11 Apr 2000 10:55:00 -0700 (PDT)",
          " Tue, 13 Jun 2000 07:23:00 -0700 (PDT)",
          " Tue, 13 Jun 2000 09:45:00 -0700 (PDT)",
          " Tue, 13 Jun 2000 10:47:00 -0700 (PDT)",
          " Tue, 13 Mar 2001 00:28:00 -0800 (PST)",
          " Tue, 13 Mar 2001 00:29:00 -0800 (PST)",
          " Tue, 15 Aug 2000 05:14:00 -0700 (PDT)",
          " Tue, 18 Apr 2000 11:51:00 -0700 (PDT)",
          " Tue, 18 Jan 2000 01:50:00 -0800 (PST)",
          " Tue, 19 Sep 2000 06:40:00 -0700 (PDT)",
          " Tue, 20 Jun 2000 01:22:00 -0700 (PDT)",
          " Tue, 20 Jun 2000 02:20:00 -0700 (PDT)",
          " Tue, 20 Jun 2000 06:26:00 -0700 (PDT)",
          " Tue, 20 Jun 2000 09:23:00 -0700 (PDT)",
          " Tue, 20 Jun 2000 11:00:00 -0700 (PDT)",
          " Tue, 21 Nov 2000 03:40:00 -0800 (PST)",
          " Tue, 21 Nov 2000 04:19:00 -0800 (PST)",
          " Tue, 22 Aug 2000 08:44:00 -0700 (PDT)",
          " Tue, 24 Apr 2001 05:12:00 -0700 (PDT)",
          " Tue, 24 Apr 2001 10:26:00 -0700 (PDT)",
          " Tue, 25 Jul 2000 06:14:00 -0700 (PDT)",
          " Tue, 26 Sep 2000 00:54:00 -0700 (PDT)",
          " Tue, 26 Sep 2000 09:26:00 -0700 (PDT)",
          " Tue, 27 Feb 2001 01:05:00 -0800 (PST)",
          " Tue, 27 Jun 2000 10:35:00 -0700 (PDT)",
          " Tue, 27 Jun 2000 10:36:00 -0700 (PDT)",
          " Tue, 27 Mar 2001 03:53:00 -0800 (PST)",
          " Tue, 28 Nov 2000 01:22:00 -0800 (PST)",
          " Tue, 29 Feb 2000 05:30:00 -0800 (PST)",
          " Tue, 29 Feb 2000 05:33:00 -0800 (PST)",
          " Tue, 29 Feb 2000 06:03:00 -0800 (PST)",
          " Tue, 29 Feb 2000 06:05:00 -0800 (PST)",
          " Tue, 3 Apr 2001 03:53:00 -0700 (PDT)",
          " Tue, 3 Apr 2001 09:15:00 -0700 (PDT)",
          " Tue, 3 Oct 2000 00:23:00 -0700 (PDT)",
          " Tue, 3 Oct 2000 01:07:00 -0700 (PDT)",
          " Tue, 30 May 2000 02:48:00 -0700 (PDT)",
          " Tue, 30 May 2000 07:06:00 -0700 (PDT)",
          " Tue, 31 Oct 2000 05:51:00 -0800 (PST)",
          " Tue, 5 Sep 2000 06:46:00 -0700 (PDT)",
          " Tue, 5 Sep 2000 09:01:00 -0700 (PDT)",
          " Tue, 6 Jun 2000 04:45:00 -0700 (PDT)",
          " Tue, 8 Aug 2000 05:54:00 -0700 (PDT)",
          " Tue, 8 Aug 2000 06:33:00 -0700 (PDT)",
          " Tue, 8 Feb 2000 04:28:00 -0800 (PST)",
          " Tue, 8 Feb 2000 10:03:00 -0800 (PST)",
          " Tue, 8 May 2001 05:43:00 -0700 (PDT)",
          " Tue, 9 May 2000 06:30:00 -0700 (PDT)",
          " Tue, 9 May 2000 06:38:00 -0700 (PDT)",
          " Tue, 9 May 2000 07:44:00 -0700 (PDT)",
          " Tue, 9 May 2000 08:07:00 -0700 (PDT)",
          " Tue, 9 May 2000 08:42:00 -0700 (PDT)",
          " Tue, 9 May 2000 13:05:00 -0700 (PDT)",
          " Wed, 1 Mar 2000 09:35:00 -0800 (PST)",
          " Wed, 1 Mar 2000 10:22:00 -0800 (PST)",
          " Wed, 12 Jan 2000 08:24:00 -0800 (PST)",
          " Wed, 12 Jul 2000 08:39:00 -0700 (PDT)",
          " Wed, 12 Jul 2000 11:10:00 -0700 (PDT)",
          " Wed, 12 Jul 2000 11:12:00 -0700 (PDT)",
          " Wed, 13 Dec 2000 06:38:00 -0800 (PST)",
          " Wed, 14 Mar 2001 01:25:00 -0800 (PST)",
          " Wed, 16 Aug 2000 00:52:00 -0700 (PDT)",
          " Wed, 16 May 2001 07:58:00 -0700 (PDT)",
          " Wed, 16 May 2001 09:21:00 -0700 (PDT)",
          " Wed, 17 May 2000 01:31:00 -0700 (PDT)",
          " Wed, 17 May 2000 06:50:00 -0700 (PDT)",
          " Wed, 18 Apr 2001 10:46:00 -0700 (PDT)",
          " Wed, 19 Jan 2000 02:21:00 -0800 (PST)",
          " Wed, 2 Aug 2000 02:09:00 -0700 (PDT)",
          " Wed, 2 Feb 2000 06:48:00 -0800 (PST)",
          " Wed, 20 Sep 2000 01:27:00 -0700 (PDT)",
          " Wed, 21 Jun 2000 01:35:00 -0700 (PDT)",
          " Wed, 21 Jun 2000 06:41:00 -0700 (PDT)",
          " Wed, 21 Mar 2001 08:12:00 -0800 (PST)",
          " Wed, 21 Mar 2001 09:12:00 -0800 (PST)",
          " Wed, 23 Aug 2000 02:16:00 -0700 (PDT)",
          " Wed, 23 Aug 2000 07:21:00 -0700 (PDT)",
          " Wed, 25 Apr 2001 08:27:00 -0700 (PDT)",
          " Wed, 25 Apr 2001 10:21:00 -0700 (PDT)",
          " Wed, 25 Oct 2000 00:23:00 -0700 (PDT)",
          " Wed, 25 Oct 2000 02:29:00 -0700 (PDT)",
          " Wed, 26 Jan 2000 09:48:00 -0800 (PST)",
          " Wed, 26 Jul 2000 10:35:00 -0700 (PDT)",
          " Wed, 27 Sep 2000 06:11:00 -0700 (PDT)",
          " Wed, 28 Feb 2001 01:10:00 -0800 (PST)",
          " Wed, 28 Feb 2001 01:11:00 -0800 (PST)",
          " Wed, 28 Feb 2001 04:43:00 -0800 (PST)",
          " Wed, 28 Feb 2001 07:24:00 -0800 (PST)",
          " Wed, 28 Feb 2001 10:03:00 -0800 (PST)",
          " Wed, 28 Jun 2000 10:58:00 -0700 (PDT)",
          " Wed, 28 Mar 2001 07:50:00 -0800 (PST)",
          " Wed, 29 Nov 2000 23:39:00 -0800 (PST)",
          " Wed, 30 Aug 2000 10:37:00 -0700 (PDT)",
          " Wed, 4 Oct 2000 11:45:00 -0700 (PDT)",
          " Wed, 5 Apr 2000 09:51:00 -0700 (PDT)",
          " Wed, 5 Jul 2000 07:05:00 -0700 (PDT)",
          " Wed, 6 Dec 2000 10:44:00 -0800 (PST)",
          " Wed, 7 Jun 2000 05:30:00 -0700 (PDT)",
          " Wed, 8 Mar 2000 00:48:00 -0800 (PST)",
          " Wed, 9 Aug 2000 06:24:00 -0700 (PDT)",
          " Wed, 9 Feb 2000 10:38:00 -0800 (PST)",
          " Wed, 9 May 2001 04:53:00 -0700 (PDT)"
         ],
         "y": [
          1,
          1,
          1,
          3,
          1,
          1,
          2,
          1,
          3,
          1,
          1,
          1,
          1,
          1,
          1,
          1,
          1,
          2,
          1,
          1,
          3,
          1,
          1,
          1,
          1,
          3,
          1,
          1,
          1,
          1,
          1,
          1,
          1,
          1,
          1,
          1,
          1,
          1,
          1,
          1,
          1,
          1,
          1,
          1,
          1,
          1,
          1,
          1,
          1,
          1,
          1,
          1,
          1,
          1,
          1,
          3,
          1,
          1,
          1,
          1,
          1,
          1,
          1,
          1,
          1,
          1,
          1,
          1,
          1,
          1,
          1,
          1,
          1,
          1,
          1,
          1,
          1,
          1,
          1,
          1,
          1,
          1,
          1,
          1,
          1,
          1,
          1,
          1,
          1,
          1,
          1,
          1,
          1,
          1,
          1,
          1,
          1,
          1,
          1,
          1,
          1,
          1,
          1,
          1,
          1,
          1,
          1,
          1,
          1,
          1,
          3,
          1,
          1,
          1,
          1,
          1,
          1,
          1,
          1,
          1,
          1,
          1,
          1,
          1,
          1,
          1,
          1,
          1,
          1,
          1,
          1,
          1,
          1,
          1,
          1,
          1,
          1,
          1,
          1,
          1,
          1,
          1,
          1,
          1,
          1,
          1,
          1,
          1,
          1,
          1,
          1,
          1,
          1,
          1,
          1,
          1,
          1,
          1,
          1,
          1,
          1,
          1,
          1,
          1,
          1,
          1,
          1,
          1,
          1,
          1,
          1,
          1,
          1,
          1,
          1,
          1,
          3,
          1,
          1,
          1,
          1,
          1,
          1,
          1,
          1,
          1,
          1,
          1,
          1,
          1,
          1,
          1,
          1,
          1,
          1,
          1,
          1,
          1,
          1,
          1,
          1,
          1,
          1,
          1,
          1,
          1,
          1,
          1,
          1,
          1,
          1,
          1,
          1,
          1,
          1,
          1,
          1,
          1,
          1,
          1,
          1,
          1,
          1,
          1,
          1,
          1,
          1,
          1,
          1,
          1,
          1,
          1,
          1,
          1,
          1,
          1,
          1,
          1,
          1,
          1,
          1,
          1,
          1,
          1,
          1,
          1,
          2,
          1,
          1,
          1,
          1,
          1,
          1,
          1,
          1,
          1,
          1,
          1,
          1,
          1,
          1,
          1,
          1,
          1,
          1
         ]
        }
       ],
       "layout": {
        "template": {
         "data": {
          "bar": [
           {
            "error_x": {
             "color": "#2a3f5f"
            },
            "error_y": {
             "color": "#2a3f5f"
            },
            "marker": {
             "line": {
              "color": "white",
              "width": 0.5
             }
            },
            "type": "bar"
           }
          ],
          "barpolar": [
           {
            "marker": {
             "line": {
              "color": "white",
              "width": 0.5
             }
            },
            "type": "barpolar"
           }
          ],
          "carpet": [
           {
            "aaxis": {
             "endlinecolor": "#2a3f5f",
             "gridcolor": "#C8D4E3",
             "linecolor": "#C8D4E3",
             "minorgridcolor": "#C8D4E3",
             "startlinecolor": "#2a3f5f"
            },
            "baxis": {
             "endlinecolor": "#2a3f5f",
             "gridcolor": "#C8D4E3",
             "linecolor": "#C8D4E3",
             "minorgridcolor": "#C8D4E3",
             "startlinecolor": "#2a3f5f"
            },
            "type": "carpet"
           }
          ],
          "choropleth": [
           {
            "colorbar": {
             "outlinewidth": 0,
             "ticks": ""
            },
            "type": "choropleth"
           }
          ],
          "contour": [
           {
            "colorbar": {
             "outlinewidth": 0,
             "ticks": ""
            },
            "colorscale": [
             [
              0,
              "#0d0887"
             ],
             [
              0.1111111111111111,
              "#46039f"
             ],
             [
              0.2222222222222222,
              "#7201a8"
             ],
             [
              0.3333333333333333,
              "#9c179e"
             ],
             [
              0.4444444444444444,
              "#bd3786"
             ],
             [
              0.5555555555555556,
              "#d8576b"
             ],
             [
              0.6666666666666666,
              "#ed7953"
             ],
             [
              0.7777777777777778,
              "#fb9f3a"
             ],
             [
              0.8888888888888888,
              "#fdca26"
             ],
             [
              1,
              "#f0f921"
             ]
            ],
            "type": "contour"
           }
          ],
          "contourcarpet": [
           {
            "colorbar": {
             "outlinewidth": 0,
             "ticks": ""
            },
            "type": "contourcarpet"
           }
          ],
          "heatmap": [
           {
            "colorbar": {
             "outlinewidth": 0,
             "ticks": ""
            },
            "colorscale": [
             [
              0,
              "#0d0887"
             ],
             [
              0.1111111111111111,
              "#46039f"
             ],
             [
              0.2222222222222222,
              "#7201a8"
             ],
             [
              0.3333333333333333,
              "#9c179e"
             ],
             [
              0.4444444444444444,
              "#bd3786"
             ],
             [
              0.5555555555555556,
              "#d8576b"
             ],
             [
              0.6666666666666666,
              "#ed7953"
             ],
             [
              0.7777777777777778,
              "#fb9f3a"
             ],
             [
              0.8888888888888888,
              "#fdca26"
             ],
             [
              1,
              "#f0f921"
             ]
            ],
            "type": "heatmap"
           }
          ],
          "heatmapgl": [
           {
            "colorbar": {
             "outlinewidth": 0,
             "ticks": ""
            },
            "colorscale": [
             [
              0,
              "#0d0887"
             ],
             [
              0.1111111111111111,
              "#46039f"
             ],
             [
              0.2222222222222222,
              "#7201a8"
             ],
             [
              0.3333333333333333,
              "#9c179e"
             ],
             [
              0.4444444444444444,
              "#bd3786"
             ],
             [
              0.5555555555555556,
              "#d8576b"
             ],
             [
              0.6666666666666666,
              "#ed7953"
             ],
             [
              0.7777777777777778,
              "#fb9f3a"
             ],
             [
              0.8888888888888888,
              "#fdca26"
             ],
             [
              1,
              "#f0f921"
             ]
            ],
            "type": "heatmapgl"
           }
          ],
          "histogram": [
           {
            "marker": {
             "colorbar": {
              "outlinewidth": 0,
              "ticks": ""
             }
            },
            "type": "histogram"
           }
          ],
          "histogram2d": [
           {
            "colorbar": {
             "outlinewidth": 0,
             "ticks": ""
            },
            "colorscale": [
             [
              0,
              "#0d0887"
             ],
             [
              0.1111111111111111,
              "#46039f"
             ],
             [
              0.2222222222222222,
              "#7201a8"
             ],
             [
              0.3333333333333333,
              "#9c179e"
             ],
             [
              0.4444444444444444,
              "#bd3786"
             ],
             [
              0.5555555555555556,
              "#d8576b"
             ],
             [
              0.6666666666666666,
              "#ed7953"
             ],
             [
              0.7777777777777778,
              "#fb9f3a"
             ],
             [
              0.8888888888888888,
              "#fdca26"
             ],
             [
              1,
              "#f0f921"
             ]
            ],
            "type": "histogram2d"
           }
          ],
          "histogram2dcontour": [
           {
            "colorbar": {
             "outlinewidth": 0,
             "ticks": ""
            },
            "colorscale": [
             [
              0,
              "#0d0887"
             ],
             [
              0.1111111111111111,
              "#46039f"
             ],
             [
              0.2222222222222222,
              "#7201a8"
             ],
             [
              0.3333333333333333,
              "#9c179e"
             ],
             [
              0.4444444444444444,
              "#bd3786"
             ],
             [
              0.5555555555555556,
              "#d8576b"
             ],
             [
              0.6666666666666666,
              "#ed7953"
             ],
             [
              0.7777777777777778,
              "#fb9f3a"
             ],
             [
              0.8888888888888888,
              "#fdca26"
             ],
             [
              1,
              "#f0f921"
             ]
            ],
            "type": "histogram2dcontour"
           }
          ],
          "mesh3d": [
           {
            "colorbar": {
             "outlinewidth": 0,
             "ticks": ""
            },
            "type": "mesh3d"
           }
          ],
          "parcoords": [
           {
            "line": {
             "colorbar": {
              "outlinewidth": 0,
              "ticks": ""
             }
            },
            "type": "parcoords"
           }
          ],
          "pie": [
           {
            "automargin": true,
            "type": "pie"
           }
          ],
          "scatter": [
           {
            "marker": {
             "colorbar": {
              "outlinewidth": 0,
              "ticks": ""
             }
            },
            "type": "scatter"
           }
          ],
          "scatter3d": [
           {
            "line": {
             "colorbar": {
              "outlinewidth": 0,
              "ticks": ""
             }
            },
            "marker": {
             "colorbar": {
              "outlinewidth": 0,
              "ticks": ""
             }
            },
            "type": "scatter3d"
           }
          ],
          "scattercarpet": [
           {
            "marker": {
             "colorbar": {
              "outlinewidth": 0,
              "ticks": ""
             }
            },
            "type": "scattercarpet"
           }
          ],
          "scattergeo": [
           {
            "marker": {
             "colorbar": {
              "outlinewidth": 0,
              "ticks": ""
             }
            },
            "type": "scattergeo"
           }
          ],
          "scattergl": [
           {
            "marker": {
             "colorbar": {
              "outlinewidth": 0,
              "ticks": ""
             }
            },
            "type": "scattergl"
           }
          ],
          "scattermapbox": [
           {
            "marker": {
             "colorbar": {
              "outlinewidth": 0,
              "ticks": ""
             }
            },
            "type": "scattermapbox"
           }
          ],
          "scatterpolar": [
           {
            "marker": {
             "colorbar": {
              "outlinewidth": 0,
              "ticks": ""
             }
            },
            "type": "scatterpolar"
           }
          ],
          "scatterpolargl": [
           {
            "marker": {
             "colorbar": {
              "outlinewidth": 0,
              "ticks": ""
             }
            },
            "type": "scatterpolargl"
           }
          ],
          "scatterternary": [
           {
            "marker": {
             "colorbar": {
              "outlinewidth": 0,
              "ticks": ""
             }
            },
            "type": "scatterternary"
           }
          ],
          "surface": [
           {
            "colorbar": {
             "outlinewidth": 0,
             "ticks": ""
            },
            "colorscale": [
             [
              0,
              "#0d0887"
             ],
             [
              0.1111111111111111,
              "#46039f"
             ],
             [
              0.2222222222222222,
              "#7201a8"
             ],
             [
              0.3333333333333333,
              "#9c179e"
             ],
             [
              0.4444444444444444,
              "#bd3786"
             ],
             [
              0.5555555555555556,
              "#d8576b"
             ],
             [
              0.6666666666666666,
              "#ed7953"
             ],
             [
              0.7777777777777778,
              "#fb9f3a"
             ],
             [
              0.8888888888888888,
              "#fdca26"
             ],
             [
              1,
              "#f0f921"
             ]
            ],
            "type": "surface"
           }
          ],
          "table": [
           {
            "cells": {
             "fill": {
              "color": "#EBF0F8"
             },
             "line": {
              "color": "white"
             }
            },
            "header": {
             "fill": {
              "color": "#C8D4E3"
             },
             "line": {
              "color": "white"
             }
            },
            "type": "table"
           }
          ]
         },
         "layout": {
          "annotationdefaults": {
           "arrowcolor": "#2a3f5f",
           "arrowhead": 0,
           "arrowwidth": 1
          },
          "autotypenumbers": "strict",
          "coloraxis": {
           "colorbar": {
            "outlinewidth": 0,
            "ticks": ""
           }
          },
          "colorscale": {
           "diverging": [
            [
             0,
             "#8e0152"
            ],
            [
             0.1,
             "#c51b7d"
            ],
            [
             0.2,
             "#de77ae"
            ],
            [
             0.3,
             "#f1b6da"
            ],
            [
             0.4,
             "#fde0ef"
            ],
            [
             0.5,
             "#f7f7f7"
            ],
            [
             0.6,
             "#e6f5d0"
            ],
            [
             0.7,
             "#b8e186"
            ],
            [
             0.8,
             "#7fbc41"
            ],
            [
             0.9,
             "#4d9221"
            ],
            [
             1,
             "#276419"
            ]
           ],
           "sequential": [
            [
             0,
             "#0d0887"
            ],
            [
             0.1111111111111111,
             "#46039f"
            ],
            [
             0.2222222222222222,
             "#7201a8"
            ],
            [
             0.3333333333333333,
             "#9c179e"
            ],
            [
             0.4444444444444444,
             "#bd3786"
            ],
            [
             0.5555555555555556,
             "#d8576b"
            ],
            [
             0.6666666666666666,
             "#ed7953"
            ],
            [
             0.7777777777777778,
             "#fb9f3a"
            ],
            [
             0.8888888888888888,
             "#fdca26"
            ],
            [
             1,
             "#f0f921"
            ]
           ],
           "sequentialminus": [
            [
             0,
             "#0d0887"
            ],
            [
             0.1111111111111111,
             "#46039f"
            ],
            [
             0.2222222222222222,
             "#7201a8"
            ],
            [
             0.3333333333333333,
             "#9c179e"
            ],
            [
             0.4444444444444444,
             "#bd3786"
            ],
            [
             0.5555555555555556,
             "#d8576b"
            ],
            [
             0.6666666666666666,
             "#ed7953"
            ],
            [
             0.7777777777777778,
             "#fb9f3a"
            ],
            [
             0.8888888888888888,
             "#fdca26"
            ],
            [
             1,
             "#f0f921"
            ]
           ]
          },
          "colorway": [
           "#636efa",
           "#EF553B",
           "#00cc96",
           "#ab63fa",
           "#FFA15A",
           "#19d3f3",
           "#FF6692",
           "#B6E880",
           "#FF97FF",
           "#FECB52"
          ],
          "font": {
           "color": "#2a3f5f"
          },
          "geo": {
           "bgcolor": "white",
           "lakecolor": "white",
           "landcolor": "white",
           "showlakes": true,
           "showland": true,
           "subunitcolor": "#C8D4E3"
          },
          "hoverlabel": {
           "align": "left"
          },
          "hovermode": "closest",
          "mapbox": {
           "style": "light"
          },
          "paper_bgcolor": "white",
          "plot_bgcolor": "white",
          "polar": {
           "angularaxis": {
            "gridcolor": "#EBF0F8",
            "linecolor": "#EBF0F8",
            "ticks": ""
           },
           "bgcolor": "white",
           "radialaxis": {
            "gridcolor": "#EBF0F8",
            "linecolor": "#EBF0F8",
            "ticks": ""
           }
          },
          "scene": {
           "xaxis": {
            "backgroundcolor": "white",
            "gridcolor": "#DFE8F3",
            "gridwidth": 2,
            "linecolor": "#EBF0F8",
            "showbackground": true,
            "ticks": "",
            "zerolinecolor": "#EBF0F8"
           },
           "yaxis": {
            "backgroundcolor": "white",
            "gridcolor": "#DFE8F3",
            "gridwidth": 2,
            "linecolor": "#EBF0F8",
            "showbackground": true,
            "ticks": "",
            "zerolinecolor": "#EBF0F8"
           },
           "zaxis": {
            "backgroundcolor": "white",
            "gridcolor": "#DFE8F3",
            "gridwidth": 2,
            "linecolor": "#EBF0F8",
            "showbackground": true,
            "ticks": "",
            "zerolinecolor": "#EBF0F8"
           }
          },
          "shapedefaults": {
           "line": {
            "color": "#2a3f5f"
           }
          },
          "ternary": {
           "aaxis": {
            "gridcolor": "#DFE8F3",
            "linecolor": "#A2B1C6",
            "ticks": ""
           },
           "baxis": {
            "gridcolor": "#DFE8F3",
            "linecolor": "#A2B1C6",
            "ticks": ""
           },
           "bgcolor": "white",
           "caxis": {
            "gridcolor": "#DFE8F3",
            "linecolor": "#A2B1C6",
            "ticks": ""
           }
          },
          "title": {
           "x": 0.05
          },
          "xaxis": {
           "automargin": true,
           "gridcolor": "#EBF0F8",
           "linecolor": "#EBF0F8",
           "ticks": "",
           "title": {
            "standoff": 15
           },
           "zerolinecolor": "#EBF0F8",
           "zerolinewidth": 2
          },
          "yaxis": {
           "automargin": true,
           "gridcolor": "#EBF0F8",
           "linecolor": "#EBF0F8",
           "ticks": "",
           "title": {
            "standoff": 15
           },
           "zerolinecolor": "#EBF0F8",
           "zerolinewidth": 2
          }
         }
        },
        "xaxis": {
         "title": {
          "text": "Date"
         }
        },
        "yaxis": {
         "title": {
          "text": "Emails Sent that Day"
         }
        }
       }
      },
      "text/html": [
       "<div>                            <div id=\"99e81e05-ee87-4063-adc8-3da023150ea5\" class=\"plotly-graph-div\" style=\"height:525px; width:100%;\"></div>            <script type=\"text/javascript\">                require([\"plotly\"], function(Plotly) {                    window.PLOTLYENV=window.PLOTLYENV || {};                                    if (document.getElementById(\"99e81e05-ee87-4063-adc8-3da023150ea5\")) {                    Plotly.newPlot(                        \"99e81e05-ee87-4063-adc8-3da023150ea5\",                        [{\"type\": \"bar\", \"x\": [\" Fri, 11 Aug 2000 02:13:00 -0700 (PDT)\", \" Fri, 11 May 2001 00:18:00 -0700 (PDT)\", \" Fri, 11 May 2001 07:09:00 -0700 (PDT)\", \" Fri, 14 Apr 2000 08:25:00 -0700 (PDT)\", \" Fri, 14 Apr 2000 11:11:00 -0700 (PDT)\", \" Fri, 14 Jul 2000 02:22:00 -0700 (PDT)\", \" Fri, 14 Jul 2000 07:17:00 -0700 (PDT)\", \" Fri, 16 Feb 2001 10:07:00 -0800 (PST)\", \" Fri, 16 Jun 2000 01:45:00 -0700 (PDT)\", \" Fri, 16 Mar 2001 00:32:00 -0800 (PST)\", \" Fri, 16 Mar 2001 05:56:00 -0800 (PST)\", \" Fri, 2 Jul 1999 03:34:00 -0700 (PDT)\", \" Fri, 2 Jul 1999 03:36:00 -0700 (PDT)\", \" Fri, 2 Jun 2000 10:44:00 -0700 (PDT)\", \" Fri, 2 Jun 2000 10:55:00 -0700 (PDT)\", \" Fri, 21 Apr 2000 04:37:00 -0700 (PDT)\", \" Fri, 21 Apr 2000 06:23:00 -0700 (PDT)\", \" Fri, 23 Mar 2001 07:07:00 -0800 (PST)\", \" Fri, 23 Mar 2001 07:34:00 -0800 (PST)\", \" Fri, 23 Mar 2001 09:35:00 -0800 (PST)\", \" Fri, 25 Aug 2000 08:15:00 -0700 (PDT)\", \" Fri, 26 May 2000 03:03:00 -0700 (PDT)\", \" Fri, 26 May 2000 08:05:00 -0700 (PDT)\", \" Fri, 27 Apr 2001 03:27:00 -0700 (PDT)\", \" Fri, 28 Apr 2000 08:53:00 -0700 (PDT)\", \" Fri, 3 Mar 2000 09:36:00 -0800 (PST)\", \" Fri, 4 Aug 2000 05:40:00 -0700 (PDT)\", \" Fri, 4 Aug 2000 08:52:00 -0700 (PDT)\", \" Fri, 4 Aug 2000 09:04:00 -0700 (PDT)\", \" Fri, 5 May 2000 01:45:00 -0700 (PDT)\", \" Fri, 7 Apr 2000 03:58:00 -0700 (PDT)\", \" Fri, 8 Sep 2000 07:02:00 -0700 (PDT)\", \" Fri, 8 Sep 2000 11:26:00 -0700 (PDT)\", \" Fri, 8 Sep 2000 12:01:00 -0700 (PDT)\", \" Fri, 8 Sep 2000 12:08:00 -0700 (PDT)\", \" Fri, 8 Sep 2000 12:09:00 -0700 (PDT)\", \" Fri, 8 Sep 2000 12:10:00 -0700 (PDT)\", \" Mon, 10 Jul 2000 00:59:00 -0700 (PDT)\", \" Mon, 10 Jul 2000 07:00:00 -0700 (PDT)\", \" Mon, 10 Jul 2000 11:28:00 -0700 (PDT)\", \" Mon, 10 Jul 2000 11:41:00 -0700 (PDT)\", \" Mon, 11 Dec 2000 02:49:00 -0800 (PST)\", \" Mon, 11 Dec 2000 06:39:00 -0800 (PST)\", \" Mon, 11 Dec 2000 09:04:00 -0800 (PST)\", \" Mon, 11 Sep 2000 02:16:00 -0700 (PDT)\", \" Mon, 12 Jun 2000 23:51:00 -0700 (PDT)\", \" Mon, 12 Mar 2001 07:24:00 -0800 (PST)\", \" Mon, 12 Mar 2001 07:25:00 -0800 (PST)\", \" Mon, 14 May 2001 07:27:00 -0700 (PDT)\", \" Mon, 15 May 2000 10:36:00 -0700 (PDT)\", \" Mon, 15 May 2000 10:37:00 -0700 (PDT)\", \" Mon, 16 Apr 2001 04:18:00 -0700 (PDT)\", \" Mon, 16 Apr 2001 04:19:00 -0700 (PDT)\", \" Mon, 16 Apr 2001 08:42:00 -0700 (PDT)\", \" Mon, 16 Apr 2001 09:52:00 -0700 (PDT)\", \" Mon, 16 Aug 1999 02:17:00 -0700 (PDT)\", \" Mon, 17 Jan 2000 09:35:00 -0800 (PST)\", \" Mon, 17 Jan 2000 09:40:00 -0800 (PST)\", \" Mon, 17 Jul 2000 06:14:00 -0700 (PDT)\", \" Mon, 19 Mar 2001 01:27:00 -0800 (PST)\", \" Mon, 19 Mar 2001 01:28:00 -0800 (PST)\", \" Mon, 19 Mar 2001 03:28:00 -0800 (PST)\", \" Mon, 19 Mar 2001 03:34:00 -0800 (PST)\", \" Mon, 19 Mar 2001 06:26:00 -0800 (PST)\", \" Mon, 19 Mar 2001 07:32:00 -0800 (PST)\", \" Mon, 2 Apr 2001 03:55:00 -0700 (PDT)\", \" Mon, 2 Apr 2001 11:17:00 -0700 (PDT)\", \" Mon, 2 Oct 2000 03:27:00 -0700 (PDT)\", \" Mon, 2 Oct 2000 09:54:00 -0700 (PDT)\", \" Mon, 20 Nov 2000 03:42:00 -0800 (PST)\", \" Mon, 20 Nov 2000 04:48:00 -0800 (PST)\", \" Mon, 20 Nov 2000 04:50:00 -0800 (PST)\", \" Mon, 21 Aug 2000 05:18:00 -0700 (PDT)\", \" Mon, 21 Aug 2000 09:35:00 -0700 (PDT)\", \" Mon, 22 May 2000 03:38:00 -0700 (PDT)\", \" Mon, 24 Jul 2000 08:11:00 -0700 (PDT)\", \" Mon, 25 Sep 2000 03:39:00 -0700 (PDT)\", \" Mon, 26 Mar 2001 02:25:00 -0800 (PST)\", \" Mon, 26 Mar 2001 09:15:00 -0800 (PST)\", \" Mon, 26 Mar 2001 10:12:00 -0800 (PST)\", \" Mon, 27 Nov 2000 01:13:00 -0800 (PST)\", \" Mon, 28 Aug 2000 10:14:00 -0700 (PDT)\", \" Mon, 3 Apr 2000 08:45:00 -0700 (PDT)\", \" Mon, 3 Apr 2000 09:41:00 -0700 (PDT)\", \" Mon, 3 Apr 2000 12:19:00 -0700 (PDT)\", \" Mon, 30 Apr 2001 01:09:00 -0700 (PDT)\", \" Mon, 30 Apr 2001 05:56:00 -0700 (PDT)\", \" Mon, 30 Apr 2001 06:15:00 -0700 (PDT)\", \" Mon, 30 Apr 2001 06:59:00 -0700 (PDT)\", \" Mon, 30 Apr 2001 09:51:00 -0700 (PDT)\", \" Mon, 30 Apr 2001 23:12:00 -0700 (PDT)\", \" Mon, 30 Apr 2001 23:17:00 -0700 (PDT)\", \" Mon, 30 Apr 2001 23:28:00 -0700 (PDT)\", \" Mon, 30 Apr 2001 23:30:00 -0700 (PDT)\", \" Mon, 30 Oct 2000 03:02:00 -0800 (PST)\", \" Mon, 30 Oct 2000 23:48:00 -0800 (PST)\", \" Mon, 31 Jul 2000 09:40:00 -0700 (PDT)\", \" Mon, 5 Jun 2000 06:35:00 -0700 (PDT)\", \" Mon, 6 Nov 2000 01:55:00 -0800 (PST)\", \" Mon, 6 Nov 2000 09:27:00 -0800 (PST)\", \" Mon, 6 Nov 2000 23:06:00 -0800 (PST)\", \" Mon, 9 Apr 2001 06:04:00 -0700 (PDT)\", \" Mon, 9 Apr 2001 09:53:00 -0700 (PDT)\", \" Sat, 1 Jul 2000 15:13:00 -0700 (PDT)\", \" Sat, 12 Feb 2000 01:33:00 -0800 (PST)\", \" Sat, 15 Apr 2000 12:05:00 -0700 (PDT)\", \" Sun, 10 Sep 2000 23:23:00 -0700 (PDT)\", \" Sun, 25 Feb 2001 20:16:00 -0800 (PST)\", \" Sun, 27 Feb 2000 09:14:00 -0800 (PST)\", \" Thu, 1 Jun 2000 02:20:00 -0700 (PDT)\", \" Thu, 1 Mar 2001 23:59:00 -0800 (PST)\", \" Thu, 10 Aug 2000 01:58:00 -0700 (PDT)\", \" Thu, 10 Aug 2000 03:20:00 -0700 (PDT)\", \" Thu, 10 Aug 2000 03:27:00 -0700 (PDT)\", \" Thu, 12 Apr 2001 09:54:00 -0700 (PDT)\", \" Thu, 12 Apr 2001 11:49:00 -0700 (PDT)\", \" Thu, 12 Oct 2000 05:58:00 -0700 (PDT)\", \" Thu, 14 Sep 2000 09:53:00 -0700 (PDT)\", \" Thu, 15 Mar 2001 03:01:00 -0800 (PST)\", \" Thu, 15 Mar 2001 03:41:00 -0800 (PST)\", \" Thu, 15 Mar 2001 05:42:00 -0800 (PST)\", \" Thu, 15 Mar 2001 08:22:00 -0800 (PST)\", \" Thu, 17 Feb 2000 01:02:00 -0800 (PST)\", \" Thu, 17 Feb 2000 05:00:00 -0800 (PST)\", \" Thu, 18 May 2000 01:25:00 -0700 (PDT)\", \" Thu, 19 Apr 2001 11:37:00 -0700 (PDT)\", \" Thu, 19 Aug 1999 02:18:00 -0700 (PDT)\", \" Thu, 20 Jan 2000 03:17:00 -0800 (PST)\", \" Thu, 21 Sep 2000 01:41:00 -0700 (PDT)\", \" Thu, 21 Sep 2000 09:10:00 -0700 (PDT)\", \" Thu, 22 Mar 2001 01:42:00 -0800 (PST)\", \" Thu, 22 Mar 2001 23:04:00 -0800 (PST)\", \" Thu, 22 Mar 2001 23:05:00 -0800 (PST)\", \" Thu, 22 Mar 2001 23:06:00 -0800 (PST)\", \" Thu, 22 Mar 2001 23:07:00 -0800 (PST)\", \" Thu, 22 Mar 2001 23:08:00 -0800 (PST)\", \" Thu, 25 May 2000 01:43:00 -0700 (PDT)\", \" Thu, 25 May 2000 04:34:00 -0700 (PDT)\", \" Thu, 26 Oct 2000 00:25:00 -0700 (PDT)\", \" Thu, 27 Jan 2000 10:27:00 -0800 (PST)\", \" Thu, 28 Sep 2000 08:14:00 -0700 (PDT)\", \" Thu, 28 Sep 2000 08:15:00 -0700 (PDT)\", \" Thu, 29 Mar 2001 10:05:00 -0800 (PST)\", \" Thu, 3 Aug 2000 06:37:00 -0700 (PDT)\", \" Thu, 3 May 2001 01:52:00 -0700 (PDT)\", \" Thu, 3 May 2001 05:46:00 -0700 (PDT)\", \" Thu, 3 May 2001 06:11:00 -0700 (PDT)\", \" Thu, 3 May 2001 11:31:00 -0700 (PDT)\", \" Thu, 30 Nov 2000 01:36:00 -0800 (PST)\", \" Thu, 30 Nov 2000 10:27:00 -0800 (PST)\", \" Thu, 5 Apr 2001 09:40:00 -0700 (PDT)\", \" Thu, 5 Apr 2001 11:21:00 -0700 (PDT)\", \" Thu, 5 Apr 2001 11:41:00 -0700 (PDT)\", \" Thu, 7 Dec 2000 04:49:00 -0800 (PST)\", \" Thu, 9 Nov 2000 01:58:00 -0800 (PST)\", \" Thu, 9 Nov 2000 20:31:00 -0800 (PST)\", \" Tue, 1 Aug 2000 07:57:00 -0700 (PDT)\", \" Tue, 1 Feb 2000 22:04:00 -0800 (PST)\", \" Tue, 1 May 2001 00:57:00 -0700 (PDT)\", \" Tue, 1 May 2001 01:00:00 -0700 (PDT)\", \" Tue, 10 Apr 2001 02:16:00 -0700 (PDT)\", \" Tue, 11 Apr 2000 05:17:00 -0700 (PDT)\", \" Tue, 11 Apr 2000 07:25:00 -0700 (PDT)\", \" Tue, 11 Apr 2000 10:55:00 -0700 (PDT)\", \" Tue, 13 Jun 2000 07:23:00 -0700 (PDT)\", \" Tue, 13 Jun 2000 09:45:00 -0700 (PDT)\", \" Tue, 13 Jun 2000 10:47:00 -0700 (PDT)\", \" Tue, 13 Mar 2001 00:28:00 -0800 (PST)\", \" Tue, 13 Mar 2001 00:29:00 -0800 (PST)\", \" Tue, 15 Aug 2000 05:14:00 -0700 (PDT)\", \" Tue, 18 Apr 2000 11:51:00 -0700 (PDT)\", \" Tue, 18 Jan 2000 01:50:00 -0800 (PST)\", \" Tue, 19 Sep 2000 06:40:00 -0700 (PDT)\", \" Tue, 20 Jun 2000 01:22:00 -0700 (PDT)\", \" Tue, 20 Jun 2000 02:20:00 -0700 (PDT)\", \" Tue, 20 Jun 2000 06:26:00 -0700 (PDT)\", \" Tue, 20 Jun 2000 09:23:00 -0700 (PDT)\", \" Tue, 20 Jun 2000 11:00:00 -0700 (PDT)\", \" Tue, 21 Nov 2000 03:40:00 -0800 (PST)\", \" Tue, 21 Nov 2000 04:19:00 -0800 (PST)\", \" Tue, 22 Aug 2000 08:44:00 -0700 (PDT)\", \" Tue, 24 Apr 2001 05:12:00 -0700 (PDT)\", \" Tue, 24 Apr 2001 10:26:00 -0700 (PDT)\", \" Tue, 25 Jul 2000 06:14:00 -0700 (PDT)\", \" Tue, 26 Sep 2000 00:54:00 -0700 (PDT)\", \" Tue, 26 Sep 2000 09:26:00 -0700 (PDT)\", \" Tue, 27 Feb 2001 01:05:00 -0800 (PST)\", \" Tue, 27 Jun 2000 10:35:00 -0700 (PDT)\", \" Tue, 27 Jun 2000 10:36:00 -0700 (PDT)\", \" Tue, 27 Mar 2001 03:53:00 -0800 (PST)\", \" Tue, 28 Nov 2000 01:22:00 -0800 (PST)\", \" Tue, 29 Feb 2000 05:30:00 -0800 (PST)\", \" Tue, 29 Feb 2000 05:33:00 -0800 (PST)\", \" Tue, 29 Feb 2000 06:03:00 -0800 (PST)\", \" Tue, 29 Feb 2000 06:05:00 -0800 (PST)\", \" Tue, 3 Apr 2001 03:53:00 -0700 (PDT)\", \" Tue, 3 Apr 2001 09:15:00 -0700 (PDT)\", \" Tue, 3 Oct 2000 00:23:00 -0700 (PDT)\", \" Tue, 3 Oct 2000 01:07:00 -0700 (PDT)\", \" Tue, 30 May 2000 02:48:00 -0700 (PDT)\", \" Tue, 30 May 2000 07:06:00 -0700 (PDT)\", \" Tue, 31 Oct 2000 05:51:00 -0800 (PST)\", \" Tue, 5 Sep 2000 06:46:00 -0700 (PDT)\", \" Tue, 5 Sep 2000 09:01:00 -0700 (PDT)\", \" Tue, 6 Jun 2000 04:45:00 -0700 (PDT)\", \" Tue, 8 Aug 2000 05:54:00 -0700 (PDT)\", \" Tue, 8 Aug 2000 06:33:00 -0700 (PDT)\", \" Tue, 8 Feb 2000 04:28:00 -0800 (PST)\", \" Tue, 8 Feb 2000 10:03:00 -0800 (PST)\", \" Tue, 8 May 2001 05:43:00 -0700 (PDT)\", \" Tue, 9 May 2000 06:30:00 -0700 (PDT)\", \" Tue, 9 May 2000 06:38:00 -0700 (PDT)\", \" Tue, 9 May 2000 07:44:00 -0700 (PDT)\", \" Tue, 9 May 2000 08:07:00 -0700 (PDT)\", \" Tue, 9 May 2000 08:42:00 -0700 (PDT)\", \" Tue, 9 May 2000 13:05:00 -0700 (PDT)\", \" Wed, 1 Mar 2000 09:35:00 -0800 (PST)\", \" Wed, 1 Mar 2000 10:22:00 -0800 (PST)\", \" Wed, 12 Jan 2000 08:24:00 -0800 (PST)\", \" Wed, 12 Jul 2000 08:39:00 -0700 (PDT)\", \" Wed, 12 Jul 2000 11:10:00 -0700 (PDT)\", \" Wed, 12 Jul 2000 11:12:00 -0700 (PDT)\", \" Wed, 13 Dec 2000 06:38:00 -0800 (PST)\", \" Wed, 14 Mar 2001 01:25:00 -0800 (PST)\", \" Wed, 16 Aug 2000 00:52:00 -0700 (PDT)\", \" Wed, 16 May 2001 07:58:00 -0700 (PDT)\", \" Wed, 16 May 2001 09:21:00 -0700 (PDT)\", \" Wed, 17 May 2000 01:31:00 -0700 (PDT)\", \" Wed, 17 May 2000 06:50:00 -0700 (PDT)\", \" Wed, 18 Apr 2001 10:46:00 -0700 (PDT)\", \" Wed, 19 Jan 2000 02:21:00 -0800 (PST)\", \" Wed, 2 Aug 2000 02:09:00 -0700 (PDT)\", \" Wed, 2 Feb 2000 06:48:00 -0800 (PST)\", \" Wed, 20 Sep 2000 01:27:00 -0700 (PDT)\", \" Wed, 21 Jun 2000 01:35:00 -0700 (PDT)\", \" Wed, 21 Jun 2000 06:41:00 -0700 (PDT)\", \" Wed, 21 Mar 2001 08:12:00 -0800 (PST)\", \" Wed, 21 Mar 2001 09:12:00 -0800 (PST)\", \" Wed, 23 Aug 2000 02:16:00 -0700 (PDT)\", \" Wed, 23 Aug 2000 07:21:00 -0700 (PDT)\", \" Wed, 25 Apr 2001 08:27:00 -0700 (PDT)\", \" Wed, 25 Apr 2001 10:21:00 -0700 (PDT)\", \" Wed, 25 Oct 2000 00:23:00 -0700 (PDT)\", \" Wed, 25 Oct 2000 02:29:00 -0700 (PDT)\", \" Wed, 26 Jan 2000 09:48:00 -0800 (PST)\", \" Wed, 26 Jul 2000 10:35:00 -0700 (PDT)\", \" Wed, 27 Sep 2000 06:11:00 -0700 (PDT)\", \" Wed, 28 Feb 2001 01:10:00 -0800 (PST)\", \" Wed, 28 Feb 2001 01:11:00 -0800 (PST)\", \" Wed, 28 Feb 2001 04:43:00 -0800 (PST)\", \" Wed, 28 Feb 2001 07:24:00 -0800 (PST)\", \" Wed, 28 Feb 2001 10:03:00 -0800 (PST)\", \" Wed, 28 Jun 2000 10:58:00 -0700 (PDT)\", \" Wed, 28 Mar 2001 07:50:00 -0800 (PST)\", \" Wed, 29 Nov 2000 23:39:00 -0800 (PST)\", \" Wed, 30 Aug 2000 10:37:00 -0700 (PDT)\", \" Wed, 4 Oct 2000 11:45:00 -0700 (PDT)\", \" Wed, 5 Apr 2000 09:51:00 -0700 (PDT)\", \" Wed, 5 Jul 2000 07:05:00 -0700 (PDT)\", \" Wed, 6 Dec 2000 10:44:00 -0800 (PST)\", \" Wed, 7 Jun 2000 05:30:00 -0700 (PDT)\", \" Wed, 8 Mar 2000 00:48:00 -0800 (PST)\", \" Wed, 9 Aug 2000 06:24:00 -0700 (PDT)\", \" Wed, 9 Feb 2000 10:38:00 -0800 (PST)\", \" Wed, 9 May 2001 04:53:00 -0700 (PDT)\"], \"y\": [1, 1, 1, 3, 1, 1, 2, 1, 3, 1, 1, 1, 1, 1, 1, 1, 1, 2, 1, 1, 3, 1, 1, 1, 1, 3, 1, 1, 1, 1, 1, 1, 1, 1, 1, 1, 1, 1, 1, 1, 1, 1, 1, 1, 1, 1, 1, 1, 1, 1, 1, 1, 1, 1, 1, 3, 1, 1, 1, 1, 1, 1, 1, 1, 1, 1, 1, 1, 1, 1, 1, 1, 1, 1, 1, 1, 1, 1, 1, 1, 1, 1, 1, 1, 1, 1, 1, 1, 1, 1, 1, 1, 1, 1, 1, 1, 1, 1, 1, 1, 1, 1, 1, 1, 1, 1, 1, 1, 1, 1, 3, 1, 1, 1, 1, 1, 1, 1, 1, 1, 1, 1, 1, 1, 1, 1, 1, 1, 1, 1, 1, 1, 1, 1, 1, 1, 1, 1, 1, 1, 1, 1, 1, 1, 1, 1, 1, 1, 1, 1, 1, 1, 1, 1, 1, 1, 1, 1, 1, 1, 1, 1, 1, 1, 1, 1, 1, 1, 1, 1, 1, 1, 1, 1, 1, 1, 3, 1, 1, 1, 1, 1, 1, 1, 1, 1, 1, 1, 1, 1, 1, 1, 1, 1, 1, 1, 1, 1, 1, 1, 1, 1, 1, 1, 1, 1, 1, 1, 1, 1, 1, 1, 1, 1, 1, 1, 1, 1, 1, 1, 1, 1, 1, 1, 1, 1, 1, 1, 1, 1, 1, 1, 1, 1, 1, 1, 1, 1, 1, 1, 1, 1, 1, 1, 1, 1, 2, 1, 1, 1, 1, 1, 1, 1, 1, 1, 1, 1, 1, 1, 1, 1, 1, 1, 1]}],                        {\"template\": {\"data\": {\"bar\": [{\"error_x\": {\"color\": \"#2a3f5f\"}, \"error_y\": {\"color\": \"#2a3f5f\"}, \"marker\": {\"line\": {\"color\": \"white\", \"width\": 0.5}}, \"type\": \"bar\"}], \"barpolar\": [{\"marker\": {\"line\": {\"color\": \"white\", \"width\": 0.5}}, \"type\": \"barpolar\"}], \"carpet\": [{\"aaxis\": {\"endlinecolor\": \"#2a3f5f\", \"gridcolor\": \"#C8D4E3\", \"linecolor\": \"#C8D4E3\", \"minorgridcolor\": \"#C8D4E3\", \"startlinecolor\": \"#2a3f5f\"}, \"baxis\": {\"endlinecolor\": \"#2a3f5f\", \"gridcolor\": \"#C8D4E3\", \"linecolor\": \"#C8D4E3\", \"minorgridcolor\": \"#C8D4E3\", \"startlinecolor\": \"#2a3f5f\"}, \"type\": \"carpet\"}], \"choropleth\": [{\"colorbar\": {\"outlinewidth\": 0, \"ticks\": \"\"}, \"type\": \"choropleth\"}], \"contour\": [{\"colorbar\": {\"outlinewidth\": 0, \"ticks\": \"\"}, \"colorscale\": [[0.0, \"#0d0887\"], [0.1111111111111111, \"#46039f\"], [0.2222222222222222, \"#7201a8\"], [0.3333333333333333, \"#9c179e\"], [0.4444444444444444, \"#bd3786\"], [0.5555555555555556, \"#d8576b\"], [0.6666666666666666, \"#ed7953\"], [0.7777777777777778, \"#fb9f3a\"], [0.8888888888888888, \"#fdca26\"], [1.0, \"#f0f921\"]], \"type\": \"contour\"}], \"contourcarpet\": [{\"colorbar\": {\"outlinewidth\": 0, \"ticks\": \"\"}, \"type\": \"contourcarpet\"}], \"heatmap\": [{\"colorbar\": {\"outlinewidth\": 0, \"ticks\": \"\"}, \"colorscale\": [[0.0, \"#0d0887\"], [0.1111111111111111, \"#46039f\"], [0.2222222222222222, \"#7201a8\"], [0.3333333333333333, \"#9c179e\"], [0.4444444444444444, \"#bd3786\"], [0.5555555555555556, \"#d8576b\"], [0.6666666666666666, \"#ed7953\"], [0.7777777777777778, \"#fb9f3a\"], [0.8888888888888888, \"#fdca26\"], [1.0, \"#f0f921\"]], \"type\": \"heatmap\"}], \"heatmapgl\": [{\"colorbar\": {\"outlinewidth\": 0, \"ticks\": \"\"}, \"colorscale\": [[0.0, \"#0d0887\"], [0.1111111111111111, \"#46039f\"], [0.2222222222222222, \"#7201a8\"], [0.3333333333333333, \"#9c179e\"], [0.4444444444444444, \"#bd3786\"], [0.5555555555555556, \"#d8576b\"], [0.6666666666666666, \"#ed7953\"], [0.7777777777777778, \"#fb9f3a\"], [0.8888888888888888, \"#fdca26\"], [1.0, \"#f0f921\"]], \"type\": \"heatmapgl\"}], \"histogram\": [{\"marker\": {\"colorbar\": {\"outlinewidth\": 0, \"ticks\": \"\"}}, \"type\": \"histogram\"}], \"histogram2d\": [{\"colorbar\": {\"outlinewidth\": 0, \"ticks\": \"\"}, \"colorscale\": [[0.0, \"#0d0887\"], [0.1111111111111111, \"#46039f\"], [0.2222222222222222, \"#7201a8\"], [0.3333333333333333, \"#9c179e\"], [0.4444444444444444, \"#bd3786\"], [0.5555555555555556, \"#d8576b\"], [0.6666666666666666, \"#ed7953\"], [0.7777777777777778, \"#fb9f3a\"], [0.8888888888888888, \"#fdca26\"], [1.0, \"#f0f921\"]], \"type\": \"histogram2d\"}], \"histogram2dcontour\": [{\"colorbar\": {\"outlinewidth\": 0, \"ticks\": \"\"}, \"colorscale\": [[0.0, \"#0d0887\"], [0.1111111111111111, \"#46039f\"], [0.2222222222222222, \"#7201a8\"], [0.3333333333333333, \"#9c179e\"], [0.4444444444444444, \"#bd3786\"], [0.5555555555555556, \"#d8576b\"], [0.6666666666666666, \"#ed7953\"], [0.7777777777777778, \"#fb9f3a\"], [0.8888888888888888, \"#fdca26\"], [1.0, \"#f0f921\"]], \"type\": \"histogram2dcontour\"}], \"mesh3d\": [{\"colorbar\": {\"outlinewidth\": 0, \"ticks\": \"\"}, \"type\": \"mesh3d\"}], \"parcoords\": [{\"line\": {\"colorbar\": {\"outlinewidth\": 0, \"ticks\": \"\"}}, \"type\": \"parcoords\"}], \"pie\": [{\"automargin\": true, \"type\": \"pie\"}], \"scatter\": [{\"marker\": {\"colorbar\": {\"outlinewidth\": 0, \"ticks\": \"\"}}, \"type\": \"scatter\"}], \"scatter3d\": [{\"line\": {\"colorbar\": {\"outlinewidth\": 0, \"ticks\": \"\"}}, \"marker\": {\"colorbar\": {\"outlinewidth\": 0, \"ticks\": \"\"}}, \"type\": \"scatter3d\"}], \"scattercarpet\": [{\"marker\": {\"colorbar\": {\"outlinewidth\": 0, \"ticks\": \"\"}}, \"type\": \"scattercarpet\"}], \"scattergeo\": [{\"marker\": {\"colorbar\": {\"outlinewidth\": 0, \"ticks\": \"\"}}, \"type\": \"scattergeo\"}], \"scattergl\": [{\"marker\": {\"colorbar\": {\"outlinewidth\": 0, \"ticks\": \"\"}}, \"type\": \"scattergl\"}], \"scattermapbox\": [{\"marker\": {\"colorbar\": {\"outlinewidth\": 0, \"ticks\": \"\"}}, \"type\": \"scattermapbox\"}], \"scatterpolar\": [{\"marker\": {\"colorbar\": {\"outlinewidth\": 0, \"ticks\": \"\"}}, \"type\": \"scatterpolar\"}], \"scatterpolargl\": [{\"marker\": {\"colorbar\": {\"outlinewidth\": 0, \"ticks\": \"\"}}, \"type\": \"scatterpolargl\"}], \"scatterternary\": [{\"marker\": {\"colorbar\": {\"outlinewidth\": 0, \"ticks\": \"\"}}, \"type\": \"scatterternary\"}], \"surface\": [{\"colorbar\": {\"outlinewidth\": 0, \"ticks\": \"\"}, \"colorscale\": [[0.0, \"#0d0887\"], [0.1111111111111111, \"#46039f\"], [0.2222222222222222, \"#7201a8\"], [0.3333333333333333, \"#9c179e\"], [0.4444444444444444, \"#bd3786\"], [0.5555555555555556, \"#d8576b\"], [0.6666666666666666, \"#ed7953\"], [0.7777777777777778, \"#fb9f3a\"], [0.8888888888888888, \"#fdca26\"], [1.0, \"#f0f921\"]], \"type\": \"surface\"}], \"table\": [{\"cells\": {\"fill\": {\"color\": \"#EBF0F8\"}, \"line\": {\"color\": \"white\"}}, \"header\": {\"fill\": {\"color\": \"#C8D4E3\"}, \"line\": {\"color\": \"white\"}}, \"type\": \"table\"}]}, \"layout\": {\"annotationdefaults\": {\"arrowcolor\": \"#2a3f5f\", \"arrowhead\": 0, \"arrowwidth\": 1}, \"autotypenumbers\": \"strict\", \"coloraxis\": {\"colorbar\": {\"outlinewidth\": 0, \"ticks\": \"\"}}, \"colorscale\": {\"diverging\": [[0, \"#8e0152\"], [0.1, \"#c51b7d\"], [0.2, \"#de77ae\"], [0.3, \"#f1b6da\"], [0.4, \"#fde0ef\"], [0.5, \"#f7f7f7\"], [0.6, \"#e6f5d0\"], [0.7, \"#b8e186\"], [0.8, \"#7fbc41\"], [0.9, \"#4d9221\"], [1, \"#276419\"]], \"sequential\": [[0.0, \"#0d0887\"], [0.1111111111111111, \"#46039f\"], [0.2222222222222222, \"#7201a8\"], [0.3333333333333333, \"#9c179e\"], [0.4444444444444444, \"#bd3786\"], [0.5555555555555556, \"#d8576b\"], [0.6666666666666666, \"#ed7953\"], [0.7777777777777778, \"#fb9f3a\"], [0.8888888888888888, \"#fdca26\"], [1.0, \"#f0f921\"]], \"sequentialminus\": [[0.0, \"#0d0887\"], [0.1111111111111111, \"#46039f\"], [0.2222222222222222, \"#7201a8\"], [0.3333333333333333, \"#9c179e\"], [0.4444444444444444, \"#bd3786\"], [0.5555555555555556, \"#d8576b\"], [0.6666666666666666, \"#ed7953\"], [0.7777777777777778, \"#fb9f3a\"], [0.8888888888888888, \"#fdca26\"], [1.0, \"#f0f921\"]]}, \"colorway\": [\"#636efa\", \"#EF553B\", \"#00cc96\", \"#ab63fa\", \"#FFA15A\", \"#19d3f3\", \"#FF6692\", \"#B6E880\", \"#FF97FF\", \"#FECB52\"], \"font\": {\"color\": \"#2a3f5f\"}, \"geo\": {\"bgcolor\": \"white\", \"lakecolor\": \"white\", \"landcolor\": \"white\", \"showlakes\": true, \"showland\": true, \"subunitcolor\": \"#C8D4E3\"}, \"hoverlabel\": {\"align\": \"left\"}, \"hovermode\": \"closest\", \"mapbox\": {\"style\": \"light\"}, \"paper_bgcolor\": \"white\", \"plot_bgcolor\": \"white\", \"polar\": {\"angularaxis\": {\"gridcolor\": \"#EBF0F8\", \"linecolor\": \"#EBF0F8\", \"ticks\": \"\"}, \"bgcolor\": \"white\", \"radialaxis\": {\"gridcolor\": \"#EBF0F8\", \"linecolor\": \"#EBF0F8\", \"ticks\": \"\"}}, \"scene\": {\"xaxis\": {\"backgroundcolor\": \"white\", \"gridcolor\": \"#DFE8F3\", \"gridwidth\": 2, \"linecolor\": \"#EBF0F8\", \"showbackground\": true, \"ticks\": \"\", \"zerolinecolor\": \"#EBF0F8\"}, \"yaxis\": {\"backgroundcolor\": \"white\", \"gridcolor\": \"#DFE8F3\", \"gridwidth\": 2, \"linecolor\": \"#EBF0F8\", \"showbackground\": true, \"ticks\": \"\", \"zerolinecolor\": \"#EBF0F8\"}, \"zaxis\": {\"backgroundcolor\": \"white\", \"gridcolor\": \"#DFE8F3\", \"gridwidth\": 2, \"linecolor\": \"#EBF0F8\", \"showbackground\": true, \"ticks\": \"\", \"zerolinecolor\": \"#EBF0F8\"}}, \"shapedefaults\": {\"line\": {\"color\": \"#2a3f5f\"}}, \"ternary\": {\"aaxis\": {\"gridcolor\": \"#DFE8F3\", \"linecolor\": \"#A2B1C6\", \"ticks\": \"\"}, \"baxis\": {\"gridcolor\": \"#DFE8F3\", \"linecolor\": \"#A2B1C6\", \"ticks\": \"\"}, \"bgcolor\": \"white\", \"caxis\": {\"gridcolor\": \"#DFE8F3\", \"linecolor\": \"#A2B1C6\", \"ticks\": \"\"}}, \"title\": {\"x\": 0.05}, \"xaxis\": {\"automargin\": true, \"gridcolor\": \"#EBF0F8\", \"linecolor\": \"#EBF0F8\", \"ticks\": \"\", \"title\": {\"standoff\": 15}, \"zerolinecolor\": \"#EBF0F8\", \"zerolinewidth\": 2}, \"yaxis\": {\"automargin\": true, \"gridcolor\": \"#EBF0F8\", \"linecolor\": \"#EBF0F8\", \"ticks\": \"\", \"title\": {\"standoff\": 15}, \"zerolinecolor\": \"#EBF0F8\", \"zerolinewidth\": 2}}}, \"xaxis\": {\"title\": {\"text\": \"Date\"}}, \"yaxis\": {\"title\": {\"text\": \"Emails Sent that Day\"}}},                        {\"responsive\": true}                    ).then(function(){\n",
       "                            \n",
       "var gd = document.getElementById('99e81e05-ee87-4063-adc8-3da023150ea5');\n",
       "var x = new MutationObserver(function (mutations, observer) {{\n",
       "        var display = window.getComputedStyle(gd).display;\n",
       "        if (!display || display === 'none') {{\n",
       "            console.log([gd, 'removed!']);\n",
       "            Plotly.purge(gd);\n",
       "            observer.disconnect();\n",
       "        }}\n",
       "}});\n",
       "\n",
       "// Listen for the removal of the full notebook cells\n",
       "var notebookContainer = gd.closest('#notebook-container');\n",
       "if (notebookContainer) {{\n",
       "    x.observe(notebookContainer, {childList: true});\n",
       "}}\n",
       "\n",
       "// Listen for the clearing of the current output cell\n",
       "var outputEl = gd.closest('.output');\n",
       "if (outputEl) {{\n",
       "    x.observe(outputEl, {childList: true});\n",
       "}}\n",
       "\n",
       "                        })                };                });            </script>        </div>"
      ]
     },
     "metadata": {},
     "output_type": "display_data"
    }
   ],
   "source": [
    "# Used for data QA\n",
    "import plotly.graph_objects as go\n",
    "\n",
    "fig = go.Figure([go.Bar(x=freq['datetime'], y=freq['from_email'])])\n",
    "fig.update_layout(\n",
    "    #title=\"Number of Enron Email Accounts for each Manager\",\n",
    "    xaxis_title=\"Date\",\n",
    "    yaxis_title=\"Emails Sent that Day\",\n",
    "    template = 'plotly_white'\n",
    ")\n",
    "fig.show()"
   ]
  },
  {
   "cell_type": "code",
   "execution_count": 23,
   "id": "8c2ced8e",
   "metadata": {},
   "outputs": [],
   "source": [
    "# Peek into Account 1\n",
    "rf = kl[kl['from_email'] == ' rosalee.fleming@enron.com'].copy()"
   ]
  },
  {
   "cell_type": "code",
   "execution_count": 24,
   "id": "0d7b4487",
   "metadata": {},
   "outputs": [
    {
     "data": {
      "text/html": [
       "<div>\n",
       "<style scoped>\n",
       "    .dataframe tbody tr th:only-of-type {\n",
       "        vertical-align: middle;\n",
       "    }\n",
       "\n",
       "    .dataframe tbody tr th {\n",
       "        vertical-align: top;\n",
       "    }\n",
       "\n",
       "    .dataframe thead th {\n",
       "        text-align: right;\n",
       "    }\n",
       "</style>\n",
       "<table border=\"1\" class=\"dataframe\">\n",
       "  <thead>\n",
       "    <tr style=\"text-align: right;\">\n",
       "      <th></th>\n",
       "      <th>from_email</th>\n",
       "      <th>message_id</th>\n",
       "      <th>to_email</th>\n",
       "      <th>date</th>\n",
       "      <th>subject</th>\n",
       "      <th>body</th>\n",
       "      <th>day</th>\n",
       "      <th>datetime</th>\n",
       "    </tr>\n",
       "  </thead>\n",
       "  <tbody>\n",
       "    <tr>\n",
       "      <th>0</th>\n",
       "      <td>rosalee.fleming@enron.com</td>\n",
       "      <td>&lt;4353541.1075840278810.JavaMail.evans@thyme&gt;</td>\n",
       "      <td>david.haug@enron.com</td>\n",
       "      <td>Wed, 13 Dec 2000 06:38:00 -0800 (PST)</td>\n",
       "      <td>Re: Succession Plan</td>\n",
       "      <td>['We', 'did', 'receive', 'this', 'from', 'Davi...</td>\n",
       "      <td>Wed, 13 Dec 2000 06:38:00 -0800 (PST)</td>\n",
       "      <td>Wed, 13 Dec 2000 06:38:00 -0800 (PST)</td>\n",
       "    </tr>\n",
       "  </tbody>\n",
       "</table>\n",
       "</div>"
      ],
      "text/plain": [
       "                   from_email                                     message_id  \\\n",
       "0   rosalee.fleming@enron.com   <4353541.1075840278810.JavaMail.evans@thyme>   \n",
       "\n",
       "               to_email                                    date  \\\n",
       "0  david.haug@enron.com   Wed, 13 Dec 2000 06:38:00 -0800 (PST)   \n",
       "\n",
       "                subject                                               body  \\\n",
       "0   Re: Succession Plan  ['We', 'did', 'receive', 'this', 'from', 'Davi...   \n",
       "\n",
       "                                      day  \\\n",
       "0   Wed, 13 Dec 2000 06:38:00 -0800 (PST)   \n",
       "\n",
       "                                 datetime  \n",
       "0   Wed, 13 Dec 2000 06:38:00 -0800 (PST)  "
      ]
     },
     "execution_count": 24,
     "metadata": {},
     "output_type": "execute_result"
    }
   ],
   "source": [
    "rf.head(1)"
   ]
  },
  {
   "cell_type": "code",
   "execution_count": 25,
   "id": "327455d0",
   "metadata": {},
   "outputs": [],
   "source": [
    "rf['day'] = rf['date'].apply(lambda day: day[day.index(',')+2:][:11])"
   ]
  },
  {
   "cell_type": "code",
   "execution_count": 26,
   "id": "73a40753",
   "metadata": {},
   "outputs": [],
   "source": [
    "rfd = rf.sort_values('datetime')\n",
    "freq = rfd.groupby(['datetime']).count()\n",
    "freq = freq.reset_index()\n",
    "freq = freq[['datetime', 'from_email']]"
   ]
  },
  {
   "cell_type": "code",
   "execution_count": 29,
   "id": "59a7dc6c",
   "metadata": {},
   "outputs": [
    {
     "data": {
      "application/vnd.plotly.v1+json": {
       "config": {
        "plotlyServerURL": "https://plot.ly"
       },
       "data": [
        {
         "type": "bar",
         "x": [
          " Fri, 11 Aug 2000 02:13:00 -0700 (PDT)",
          " Fri, 11 May 2001 00:18:00 -0700 (PDT)",
          " Fri, 11 May 2001 07:09:00 -0700 (PDT)",
          " Fri, 14 Apr 2000 08:25:00 -0700 (PDT)",
          " Fri, 14 Apr 2000 11:11:00 -0700 (PDT)",
          " Fri, 14 Jul 2000 02:22:00 -0700 (PDT)",
          " Fri, 14 Jul 2000 07:17:00 -0700 (PDT)",
          " Fri, 16 Feb 2001 10:07:00 -0800 (PST)",
          " Fri, 16 Jun 2000 01:45:00 -0700 (PDT)",
          " Fri, 16 Mar 2001 00:32:00 -0800 (PST)",
          " Fri, 16 Mar 2001 05:56:00 -0800 (PST)",
          " Fri, 2 Jul 1999 03:34:00 -0700 (PDT)",
          " Fri, 2 Jul 1999 03:36:00 -0700 (PDT)",
          " Fri, 2 Jun 2000 10:44:00 -0700 (PDT)",
          " Fri, 2 Jun 2000 10:55:00 -0700 (PDT)",
          " Fri, 21 Apr 2000 04:37:00 -0700 (PDT)",
          " Fri, 21 Apr 2000 06:23:00 -0700 (PDT)",
          " Fri, 23 Mar 2001 07:07:00 -0800 (PST)",
          " Fri, 23 Mar 2001 07:34:00 -0800 (PST)",
          " Fri, 23 Mar 2001 09:35:00 -0800 (PST)",
          " Fri, 25 Aug 2000 08:15:00 -0700 (PDT)",
          " Fri, 26 May 2000 03:03:00 -0700 (PDT)",
          " Fri, 26 May 2000 08:05:00 -0700 (PDT)",
          " Fri, 27 Apr 2001 03:27:00 -0700 (PDT)",
          " Fri, 28 Apr 2000 08:53:00 -0700 (PDT)",
          " Fri, 3 Mar 2000 09:36:00 -0800 (PST)",
          " Fri, 4 Aug 2000 05:40:00 -0700 (PDT)",
          " Fri, 4 Aug 2000 08:52:00 -0700 (PDT)",
          " Fri, 5 May 2000 01:45:00 -0700 (PDT)",
          " Fri, 7 Apr 2000 03:58:00 -0700 (PDT)",
          " Fri, 8 Sep 2000 07:02:00 -0700 (PDT)",
          " Fri, 8 Sep 2000 11:26:00 -0700 (PDT)",
          " Fri, 8 Sep 2000 12:01:00 -0700 (PDT)",
          " Fri, 8 Sep 2000 12:08:00 -0700 (PDT)",
          " Fri, 8 Sep 2000 12:09:00 -0700 (PDT)",
          " Fri, 8 Sep 2000 12:10:00 -0700 (PDT)",
          " Mon, 10 Jul 2000 07:00:00 -0700 (PDT)",
          " Mon, 10 Jul 2000 11:28:00 -0700 (PDT)",
          " Mon, 10 Jul 2000 11:41:00 -0700 (PDT)",
          " Mon, 11 Dec 2000 02:49:00 -0800 (PST)",
          " Mon, 11 Dec 2000 06:39:00 -0800 (PST)",
          " Mon, 11 Dec 2000 09:04:00 -0800 (PST)",
          " Mon, 11 Sep 2000 02:16:00 -0700 (PDT)",
          " Mon, 12 Jun 2000 23:51:00 -0700 (PDT)",
          " Mon, 12 Mar 2001 07:24:00 -0800 (PST)",
          " Mon, 12 Mar 2001 07:25:00 -0800 (PST)",
          " Mon, 14 May 2001 07:27:00 -0700 (PDT)",
          " Mon, 15 May 2000 10:36:00 -0700 (PDT)",
          " Mon, 15 May 2000 10:37:00 -0700 (PDT)",
          " Mon, 16 Apr 2001 04:18:00 -0700 (PDT)",
          " Mon, 16 Apr 2001 04:19:00 -0700 (PDT)",
          " Mon, 16 Apr 2001 08:42:00 -0700 (PDT)",
          " Mon, 16 Apr 2001 09:52:00 -0700 (PDT)",
          " Mon, 16 Aug 1999 02:17:00 -0700 (PDT)",
          " Mon, 17 Jan 2000 09:35:00 -0800 (PST)",
          " Mon, 17 Jan 2000 09:40:00 -0800 (PST)",
          " Mon, 17 Jul 2000 06:14:00 -0700 (PDT)",
          " Mon, 19 Mar 2001 01:27:00 -0800 (PST)",
          " Mon, 19 Mar 2001 01:28:00 -0800 (PST)",
          " Mon, 19 Mar 2001 03:28:00 -0800 (PST)",
          " Mon, 19 Mar 2001 03:34:00 -0800 (PST)",
          " Mon, 19 Mar 2001 06:26:00 -0800 (PST)",
          " Mon, 19 Mar 2001 07:32:00 -0800 (PST)",
          " Mon, 2 Apr 2001 03:55:00 -0700 (PDT)",
          " Mon, 2 Apr 2001 11:17:00 -0700 (PDT)",
          " Mon, 2 Oct 2000 03:27:00 -0700 (PDT)",
          " Mon, 2 Oct 2000 09:54:00 -0700 (PDT)",
          " Mon, 20 Nov 2000 03:42:00 -0800 (PST)",
          " Mon, 20 Nov 2000 04:48:00 -0800 (PST)",
          " Mon, 21 Aug 2000 05:18:00 -0700 (PDT)",
          " Mon, 21 Aug 2000 09:35:00 -0700 (PDT)",
          " Mon, 22 May 2000 03:38:00 -0700 (PDT)",
          " Mon, 24 Jul 2000 08:11:00 -0700 (PDT)",
          " Mon, 25 Sep 2000 03:39:00 -0700 (PDT)",
          " Mon, 26 Mar 2001 02:25:00 -0800 (PST)",
          " Mon, 26 Mar 2001 09:15:00 -0800 (PST)",
          " Mon, 26 Mar 2001 10:12:00 -0800 (PST)",
          " Mon, 27 Nov 2000 01:13:00 -0800 (PST)",
          " Mon, 28 Aug 2000 10:14:00 -0700 (PDT)",
          " Mon, 3 Apr 2000 08:45:00 -0700 (PDT)",
          " Mon, 3 Apr 2000 09:41:00 -0700 (PDT)",
          " Mon, 3 Apr 2000 12:19:00 -0700 (PDT)",
          " Mon, 30 Apr 2001 05:56:00 -0700 (PDT)",
          " Mon, 30 Apr 2001 06:15:00 -0700 (PDT)",
          " Mon, 30 Apr 2001 06:59:00 -0700 (PDT)",
          " Mon, 30 Apr 2001 09:51:00 -0700 (PDT)",
          " Mon, 30 Apr 2001 23:12:00 -0700 (PDT)",
          " Mon, 30 Apr 2001 23:17:00 -0700 (PDT)",
          " Mon, 30 Apr 2001 23:28:00 -0700 (PDT)",
          " Mon, 30 Apr 2001 23:30:00 -0700 (PDT)",
          " Mon, 30 Oct 2000 03:02:00 -0800 (PST)",
          " Mon, 30 Oct 2000 23:48:00 -0800 (PST)",
          " Mon, 31 Jul 2000 09:40:00 -0700 (PDT)",
          " Mon, 5 Jun 2000 06:35:00 -0700 (PDT)",
          " Mon, 6 Nov 2000 01:55:00 -0800 (PST)",
          " Mon, 6 Nov 2000 09:27:00 -0800 (PST)",
          " Mon, 6 Nov 2000 23:06:00 -0800 (PST)",
          " Mon, 9 Apr 2001 09:53:00 -0700 (PDT)",
          " Sat, 1 Jul 2000 15:13:00 -0700 (PDT)",
          " Sat, 12 Feb 2000 01:33:00 -0800 (PST)",
          " Sat, 15 Apr 2000 12:05:00 -0700 (PDT)",
          " Sun, 10 Sep 2000 23:23:00 -0700 (PDT)",
          " Sun, 25 Feb 2001 20:16:00 -0800 (PST)",
          " Sun, 27 Feb 2000 09:14:00 -0800 (PST)",
          " Thu, 1 Jun 2000 02:20:00 -0700 (PDT)",
          " Thu, 1 Mar 2001 23:59:00 -0800 (PST)",
          " Thu, 10 Aug 2000 01:58:00 -0700 (PDT)",
          " Thu, 10 Aug 2000 03:27:00 -0700 (PDT)",
          " Thu, 12 Apr 2001 09:54:00 -0700 (PDT)",
          " Thu, 12 Apr 2001 11:49:00 -0700 (PDT)",
          " Thu, 15 Mar 2001 03:01:00 -0800 (PST)",
          " Thu, 15 Mar 2001 03:41:00 -0800 (PST)",
          " Thu, 15 Mar 2001 05:42:00 -0800 (PST)",
          " Thu, 15 Mar 2001 08:22:00 -0800 (PST)",
          " Thu, 17 Feb 2000 01:02:00 -0800 (PST)",
          " Thu, 17 Feb 2000 05:00:00 -0800 (PST)",
          " Thu, 18 May 2000 01:25:00 -0700 (PDT)",
          " Thu, 19 Apr 2001 11:37:00 -0700 (PDT)",
          " Thu, 19 Aug 1999 02:18:00 -0700 (PDT)",
          " Thu, 20 Jan 2000 03:17:00 -0800 (PST)",
          " Thu, 21 Sep 2000 01:41:00 -0700 (PDT)",
          " Thu, 21 Sep 2000 09:10:00 -0700 (PDT)",
          " Thu, 22 Mar 2001 01:42:00 -0800 (PST)",
          " Thu, 22 Mar 2001 23:04:00 -0800 (PST)",
          " Thu, 22 Mar 2001 23:05:00 -0800 (PST)",
          " Thu, 22 Mar 2001 23:06:00 -0800 (PST)",
          " Thu, 22 Mar 2001 23:07:00 -0800 (PST)",
          " Thu, 22 Mar 2001 23:08:00 -0800 (PST)",
          " Thu, 25 May 2000 01:43:00 -0700 (PDT)",
          " Thu, 25 May 2000 04:34:00 -0700 (PDT)",
          " Thu, 26 Oct 2000 00:25:00 -0700 (PDT)",
          " Thu, 27 Jan 2000 10:27:00 -0800 (PST)",
          " Thu, 28 Sep 2000 08:14:00 -0700 (PDT)",
          " Thu, 28 Sep 2000 08:15:00 -0700 (PDT)",
          " Thu, 29 Mar 2001 10:05:00 -0800 (PST)",
          " Thu, 3 May 2001 01:52:00 -0700 (PDT)",
          " Thu, 3 May 2001 05:46:00 -0700 (PDT)",
          " Thu, 3 May 2001 06:11:00 -0700 (PDT)",
          " Thu, 3 May 2001 11:31:00 -0700 (PDT)",
          " Thu, 30 Nov 2000 01:36:00 -0800 (PST)",
          " Thu, 30 Nov 2000 10:27:00 -0800 (PST)",
          " Thu, 5 Apr 2001 09:40:00 -0700 (PDT)",
          " Thu, 5 Apr 2001 11:21:00 -0700 (PDT)",
          " Thu, 5 Apr 2001 11:41:00 -0700 (PDT)",
          " Thu, 7 Dec 2000 04:49:00 -0800 (PST)",
          " Thu, 9 Nov 2000 01:58:00 -0800 (PST)",
          " Thu, 9 Nov 2000 20:31:00 -0800 (PST)",
          " Tue, 1 Aug 2000 07:57:00 -0700 (PDT)",
          " Tue, 1 Feb 2000 22:04:00 -0800 (PST)",
          " Tue, 1 May 2001 00:57:00 -0700 (PDT)",
          " Tue, 1 May 2001 01:00:00 -0700 (PDT)",
          " Tue, 10 Apr 2001 02:16:00 -0700 (PDT)",
          " Tue, 11 Apr 2000 05:17:00 -0700 (PDT)",
          " Tue, 11 Apr 2000 07:25:00 -0700 (PDT)",
          " Tue, 11 Apr 2000 10:55:00 -0700 (PDT)",
          " Tue, 13 Jun 2000 10:47:00 -0700 (PDT)",
          " Tue, 13 Mar 2001 00:28:00 -0800 (PST)",
          " Tue, 13 Mar 2001 00:29:00 -0800 (PST)",
          " Tue, 15 Aug 2000 05:14:00 -0700 (PDT)",
          " Tue, 18 Apr 2000 11:51:00 -0700 (PDT)",
          " Tue, 18 Jan 2000 01:50:00 -0800 (PST)",
          " Tue, 19 Sep 2000 06:40:00 -0700 (PDT)",
          " Tue, 20 Jun 2000 01:22:00 -0700 (PDT)",
          " Tue, 20 Jun 2000 02:20:00 -0700 (PDT)",
          " Tue, 20 Jun 2000 06:26:00 -0700 (PDT)",
          " Tue, 20 Jun 2000 09:23:00 -0700 (PDT)",
          " Tue, 20 Jun 2000 11:00:00 -0700 (PDT)",
          " Tue, 21 Nov 2000 03:40:00 -0800 (PST)",
          " Tue, 21 Nov 2000 04:19:00 -0800 (PST)",
          " Tue, 22 Aug 2000 08:44:00 -0700 (PDT)",
          " Tue, 24 Apr 2001 05:12:00 -0700 (PDT)",
          " Tue, 24 Apr 2001 10:26:00 -0700 (PDT)",
          " Tue, 25 Jul 2000 06:14:00 -0700 (PDT)",
          " Tue, 26 Sep 2000 00:54:00 -0700 (PDT)",
          " Tue, 26 Sep 2000 09:26:00 -0700 (PDT)",
          " Tue, 27 Feb 2001 01:05:00 -0800 (PST)",
          " Tue, 27 Jun 2000 10:35:00 -0700 (PDT)",
          " Tue, 27 Jun 2000 10:36:00 -0700 (PDT)",
          " Tue, 27 Mar 2001 03:53:00 -0800 (PST)",
          " Tue, 28 Nov 2000 01:22:00 -0800 (PST)",
          " Tue, 29 Feb 2000 05:30:00 -0800 (PST)",
          " Tue, 29 Feb 2000 05:33:00 -0800 (PST)",
          " Tue, 29 Feb 2000 06:03:00 -0800 (PST)",
          " Tue, 29 Feb 2000 06:05:00 -0800 (PST)",
          " Tue, 3 Apr 2001 03:53:00 -0700 (PDT)",
          " Tue, 3 Apr 2001 09:15:00 -0700 (PDT)",
          " Tue, 3 Oct 2000 00:23:00 -0700 (PDT)",
          " Tue, 3 Oct 2000 01:07:00 -0700 (PDT)",
          " Tue, 30 May 2000 02:48:00 -0700 (PDT)",
          " Tue, 30 May 2000 07:06:00 -0700 (PDT)",
          " Tue, 31 Oct 2000 05:51:00 -0800 (PST)",
          " Tue, 5 Sep 2000 06:46:00 -0700 (PDT)",
          " Tue, 5 Sep 2000 09:01:00 -0700 (PDT)",
          " Tue, 6 Jun 2000 04:45:00 -0700 (PDT)",
          " Tue, 8 Aug 2000 05:54:00 -0700 (PDT)",
          " Tue, 8 Aug 2000 06:33:00 -0700 (PDT)",
          " Tue, 8 Feb 2000 04:28:00 -0800 (PST)",
          " Tue, 8 Feb 2000 10:03:00 -0800 (PST)",
          " Tue, 8 May 2001 05:43:00 -0700 (PDT)",
          " Tue, 9 May 2000 06:30:00 -0700 (PDT)",
          " Tue, 9 May 2000 06:38:00 -0700 (PDT)",
          " Tue, 9 May 2000 07:44:00 -0700 (PDT)",
          " Tue, 9 May 2000 08:07:00 -0700 (PDT)",
          " Tue, 9 May 2000 08:42:00 -0700 (PDT)",
          " Tue, 9 May 2000 13:05:00 -0700 (PDT)",
          " Wed, 1 Mar 2000 09:35:00 -0800 (PST)",
          " Wed, 1 Mar 2000 10:22:00 -0800 (PST)",
          " Wed, 12 Jan 2000 08:24:00 -0800 (PST)",
          " Wed, 12 Jul 2000 11:10:00 -0700 (PDT)",
          " Wed, 12 Jul 2000 11:12:00 -0700 (PDT)",
          " Wed, 13 Dec 2000 06:38:00 -0800 (PST)",
          " Wed, 16 Aug 2000 00:52:00 -0700 (PDT)",
          " Wed, 16 May 2001 07:58:00 -0700 (PDT)",
          " Wed, 16 May 2001 09:21:00 -0700 (PDT)",
          " Wed, 17 May 2000 01:31:00 -0700 (PDT)",
          " Wed, 17 May 2000 06:50:00 -0700 (PDT)",
          " Wed, 18 Apr 2001 10:46:00 -0700 (PDT)",
          " Wed, 19 Jan 2000 02:21:00 -0800 (PST)",
          " Wed, 2 Feb 2000 06:48:00 -0800 (PST)",
          " Wed, 20 Sep 2000 01:27:00 -0700 (PDT)",
          " Wed, 21 Jun 2000 01:35:00 -0700 (PDT)",
          " Wed, 21 Jun 2000 06:41:00 -0700 (PDT)",
          " Wed, 21 Mar 2001 08:12:00 -0800 (PST)",
          " Wed, 21 Mar 2001 09:12:00 -0800 (PST)",
          " Wed, 23 Aug 2000 02:16:00 -0700 (PDT)",
          " Wed, 23 Aug 2000 07:21:00 -0700 (PDT)",
          " Wed, 25 Apr 2001 08:27:00 -0700 (PDT)",
          " Wed, 25 Apr 2001 10:21:00 -0700 (PDT)",
          " Wed, 25 Oct 2000 00:23:00 -0700 (PDT)",
          " Wed, 25 Oct 2000 02:29:00 -0700 (PDT)",
          " Wed, 26 Jan 2000 09:48:00 -0800 (PST)",
          " Wed, 26 Jul 2000 10:35:00 -0700 (PDT)",
          " Wed, 27 Sep 2000 06:11:00 -0700 (PDT)",
          " Wed, 28 Feb 2001 01:10:00 -0800 (PST)",
          " Wed, 28 Feb 2001 01:11:00 -0800 (PST)",
          " Wed, 28 Feb 2001 04:43:00 -0800 (PST)",
          " Wed, 28 Feb 2001 07:24:00 -0800 (PST)",
          " Wed, 28 Feb 2001 10:03:00 -0800 (PST)",
          " Wed, 28 Jun 2000 10:58:00 -0700 (PDT)",
          " Wed, 28 Mar 2001 07:50:00 -0800 (PST)",
          " Wed, 29 Nov 2000 23:39:00 -0800 (PST)",
          " Wed, 30 Aug 2000 10:37:00 -0700 (PDT)",
          " Wed, 4 Oct 2000 11:45:00 -0700 (PDT)",
          " Wed, 5 Apr 2000 09:51:00 -0700 (PDT)",
          " Wed, 6 Dec 2000 10:44:00 -0800 (PST)",
          " Wed, 7 Jun 2000 05:30:00 -0700 (PDT)",
          " Wed, 8 Mar 2000 00:48:00 -0800 (PST)",
          " Wed, 9 Aug 2000 06:24:00 -0700 (PDT)",
          " Wed, 9 Feb 2000 10:38:00 -0800 (PST)",
          " Wed, 9 May 2001 04:53:00 -0700 (PDT)"
         ],
         "y": [
          1,
          1,
          1,
          3,
          1,
          1,
          2,
          1,
          3,
          1,
          1,
          1,
          1,
          1,
          1,
          1,
          1,
          2,
          1,
          1,
          3,
          1,
          1,
          1,
          1,
          3,
          1,
          1,
          1,
          1,
          1,
          1,
          1,
          1,
          1,
          1,
          1,
          1,
          1,
          1,
          1,
          1,
          1,
          1,
          1,
          1,
          1,
          1,
          1,
          1,
          1,
          1,
          1,
          3,
          1,
          1,
          1,
          1,
          1,
          1,
          1,
          1,
          1,
          1,
          1,
          1,
          1,
          1,
          1,
          1,
          1,
          1,
          1,
          1,
          1,
          1,
          1,
          1,
          1,
          1,
          1,
          1,
          1,
          1,
          1,
          1,
          1,
          1,
          1,
          1,
          1,
          1,
          1,
          1,
          1,
          1,
          1,
          1,
          1,
          1,
          1,
          1,
          1,
          1,
          1,
          3,
          1,
          1,
          1,
          1,
          1,
          1,
          1,
          1,
          1,
          1,
          1,
          1,
          1,
          1,
          1,
          1,
          1,
          1,
          1,
          1,
          1,
          1,
          1,
          1,
          1,
          1,
          1,
          1,
          1,
          1,
          1,
          1,
          1,
          1,
          1,
          1,
          1,
          1,
          1,
          1,
          1,
          1,
          1,
          1,
          1,
          1,
          1,
          1,
          1,
          1,
          1,
          1,
          1,
          1,
          1,
          1,
          1,
          1,
          1,
          3,
          1,
          1,
          1,
          1,
          1,
          1,
          1,
          1,
          1,
          1,
          1,
          1,
          1,
          1,
          1,
          1,
          1,
          1,
          1,
          1,
          1,
          1,
          1,
          1,
          1,
          1,
          1,
          1,
          1,
          1,
          1,
          1,
          1,
          1,
          1,
          1,
          1,
          1,
          1,
          1,
          1,
          1,
          1,
          1,
          1,
          1,
          1,
          1,
          1,
          1,
          1,
          1,
          1,
          1,
          1,
          1,
          1,
          1,
          1,
          1,
          1,
          1,
          1,
          1,
          1,
          1,
          2,
          1,
          1,
          1,
          1,
          1,
          1,
          1,
          1,
          1,
          1,
          1,
          1,
          1,
          1,
          1,
          1,
          1
         ]
        }
       ],
       "layout": {
        "template": {
         "data": {
          "bar": [
           {
            "error_x": {
             "color": "#2a3f5f"
            },
            "error_y": {
             "color": "#2a3f5f"
            },
            "marker": {
             "line": {
              "color": "white",
              "width": 0.5
             }
            },
            "type": "bar"
           }
          ],
          "barpolar": [
           {
            "marker": {
             "line": {
              "color": "white",
              "width": 0.5
             }
            },
            "type": "barpolar"
           }
          ],
          "carpet": [
           {
            "aaxis": {
             "endlinecolor": "#2a3f5f",
             "gridcolor": "#C8D4E3",
             "linecolor": "#C8D4E3",
             "minorgridcolor": "#C8D4E3",
             "startlinecolor": "#2a3f5f"
            },
            "baxis": {
             "endlinecolor": "#2a3f5f",
             "gridcolor": "#C8D4E3",
             "linecolor": "#C8D4E3",
             "minorgridcolor": "#C8D4E3",
             "startlinecolor": "#2a3f5f"
            },
            "type": "carpet"
           }
          ],
          "choropleth": [
           {
            "colorbar": {
             "outlinewidth": 0,
             "ticks": ""
            },
            "type": "choropleth"
           }
          ],
          "contour": [
           {
            "colorbar": {
             "outlinewidth": 0,
             "ticks": ""
            },
            "colorscale": [
             [
              0,
              "#0d0887"
             ],
             [
              0.1111111111111111,
              "#46039f"
             ],
             [
              0.2222222222222222,
              "#7201a8"
             ],
             [
              0.3333333333333333,
              "#9c179e"
             ],
             [
              0.4444444444444444,
              "#bd3786"
             ],
             [
              0.5555555555555556,
              "#d8576b"
             ],
             [
              0.6666666666666666,
              "#ed7953"
             ],
             [
              0.7777777777777778,
              "#fb9f3a"
             ],
             [
              0.8888888888888888,
              "#fdca26"
             ],
             [
              1,
              "#f0f921"
             ]
            ],
            "type": "contour"
           }
          ],
          "contourcarpet": [
           {
            "colorbar": {
             "outlinewidth": 0,
             "ticks": ""
            },
            "type": "contourcarpet"
           }
          ],
          "heatmap": [
           {
            "colorbar": {
             "outlinewidth": 0,
             "ticks": ""
            },
            "colorscale": [
             [
              0,
              "#0d0887"
             ],
             [
              0.1111111111111111,
              "#46039f"
             ],
             [
              0.2222222222222222,
              "#7201a8"
             ],
             [
              0.3333333333333333,
              "#9c179e"
             ],
             [
              0.4444444444444444,
              "#bd3786"
             ],
             [
              0.5555555555555556,
              "#d8576b"
             ],
             [
              0.6666666666666666,
              "#ed7953"
             ],
             [
              0.7777777777777778,
              "#fb9f3a"
             ],
             [
              0.8888888888888888,
              "#fdca26"
             ],
             [
              1,
              "#f0f921"
             ]
            ],
            "type": "heatmap"
           }
          ],
          "heatmapgl": [
           {
            "colorbar": {
             "outlinewidth": 0,
             "ticks": ""
            },
            "colorscale": [
             [
              0,
              "#0d0887"
             ],
             [
              0.1111111111111111,
              "#46039f"
             ],
             [
              0.2222222222222222,
              "#7201a8"
             ],
             [
              0.3333333333333333,
              "#9c179e"
             ],
             [
              0.4444444444444444,
              "#bd3786"
             ],
             [
              0.5555555555555556,
              "#d8576b"
             ],
             [
              0.6666666666666666,
              "#ed7953"
             ],
             [
              0.7777777777777778,
              "#fb9f3a"
             ],
             [
              0.8888888888888888,
              "#fdca26"
             ],
             [
              1,
              "#f0f921"
             ]
            ],
            "type": "heatmapgl"
           }
          ],
          "histogram": [
           {
            "marker": {
             "colorbar": {
              "outlinewidth": 0,
              "ticks": ""
             }
            },
            "type": "histogram"
           }
          ],
          "histogram2d": [
           {
            "colorbar": {
             "outlinewidth": 0,
             "ticks": ""
            },
            "colorscale": [
             [
              0,
              "#0d0887"
             ],
             [
              0.1111111111111111,
              "#46039f"
             ],
             [
              0.2222222222222222,
              "#7201a8"
             ],
             [
              0.3333333333333333,
              "#9c179e"
             ],
             [
              0.4444444444444444,
              "#bd3786"
             ],
             [
              0.5555555555555556,
              "#d8576b"
             ],
             [
              0.6666666666666666,
              "#ed7953"
             ],
             [
              0.7777777777777778,
              "#fb9f3a"
             ],
             [
              0.8888888888888888,
              "#fdca26"
             ],
             [
              1,
              "#f0f921"
             ]
            ],
            "type": "histogram2d"
           }
          ],
          "histogram2dcontour": [
           {
            "colorbar": {
             "outlinewidth": 0,
             "ticks": ""
            },
            "colorscale": [
             [
              0,
              "#0d0887"
             ],
             [
              0.1111111111111111,
              "#46039f"
             ],
             [
              0.2222222222222222,
              "#7201a8"
             ],
             [
              0.3333333333333333,
              "#9c179e"
             ],
             [
              0.4444444444444444,
              "#bd3786"
             ],
             [
              0.5555555555555556,
              "#d8576b"
             ],
             [
              0.6666666666666666,
              "#ed7953"
             ],
             [
              0.7777777777777778,
              "#fb9f3a"
             ],
             [
              0.8888888888888888,
              "#fdca26"
             ],
             [
              1,
              "#f0f921"
             ]
            ],
            "type": "histogram2dcontour"
           }
          ],
          "mesh3d": [
           {
            "colorbar": {
             "outlinewidth": 0,
             "ticks": ""
            },
            "type": "mesh3d"
           }
          ],
          "parcoords": [
           {
            "line": {
             "colorbar": {
              "outlinewidth": 0,
              "ticks": ""
             }
            },
            "type": "parcoords"
           }
          ],
          "pie": [
           {
            "automargin": true,
            "type": "pie"
           }
          ],
          "scatter": [
           {
            "marker": {
             "colorbar": {
              "outlinewidth": 0,
              "ticks": ""
             }
            },
            "type": "scatter"
           }
          ],
          "scatter3d": [
           {
            "line": {
             "colorbar": {
              "outlinewidth": 0,
              "ticks": ""
             }
            },
            "marker": {
             "colorbar": {
              "outlinewidth": 0,
              "ticks": ""
             }
            },
            "type": "scatter3d"
           }
          ],
          "scattercarpet": [
           {
            "marker": {
             "colorbar": {
              "outlinewidth": 0,
              "ticks": ""
             }
            },
            "type": "scattercarpet"
           }
          ],
          "scattergeo": [
           {
            "marker": {
             "colorbar": {
              "outlinewidth": 0,
              "ticks": ""
             }
            },
            "type": "scattergeo"
           }
          ],
          "scattergl": [
           {
            "marker": {
             "colorbar": {
              "outlinewidth": 0,
              "ticks": ""
             }
            },
            "type": "scattergl"
           }
          ],
          "scattermapbox": [
           {
            "marker": {
             "colorbar": {
              "outlinewidth": 0,
              "ticks": ""
             }
            },
            "type": "scattermapbox"
           }
          ],
          "scatterpolar": [
           {
            "marker": {
             "colorbar": {
              "outlinewidth": 0,
              "ticks": ""
             }
            },
            "type": "scatterpolar"
           }
          ],
          "scatterpolargl": [
           {
            "marker": {
             "colorbar": {
              "outlinewidth": 0,
              "ticks": ""
             }
            },
            "type": "scatterpolargl"
           }
          ],
          "scatterternary": [
           {
            "marker": {
             "colorbar": {
              "outlinewidth": 0,
              "ticks": ""
             }
            },
            "type": "scatterternary"
           }
          ],
          "surface": [
           {
            "colorbar": {
             "outlinewidth": 0,
             "ticks": ""
            },
            "colorscale": [
             [
              0,
              "#0d0887"
             ],
             [
              0.1111111111111111,
              "#46039f"
             ],
             [
              0.2222222222222222,
              "#7201a8"
             ],
             [
              0.3333333333333333,
              "#9c179e"
             ],
             [
              0.4444444444444444,
              "#bd3786"
             ],
             [
              0.5555555555555556,
              "#d8576b"
             ],
             [
              0.6666666666666666,
              "#ed7953"
             ],
             [
              0.7777777777777778,
              "#fb9f3a"
             ],
             [
              0.8888888888888888,
              "#fdca26"
             ],
             [
              1,
              "#f0f921"
             ]
            ],
            "type": "surface"
           }
          ],
          "table": [
           {
            "cells": {
             "fill": {
              "color": "#EBF0F8"
             },
             "line": {
              "color": "white"
             }
            },
            "header": {
             "fill": {
              "color": "#C8D4E3"
             },
             "line": {
              "color": "white"
             }
            },
            "type": "table"
           }
          ]
         },
         "layout": {
          "annotationdefaults": {
           "arrowcolor": "#2a3f5f",
           "arrowhead": 0,
           "arrowwidth": 1
          },
          "autotypenumbers": "strict",
          "coloraxis": {
           "colorbar": {
            "outlinewidth": 0,
            "ticks": ""
           }
          },
          "colorscale": {
           "diverging": [
            [
             0,
             "#8e0152"
            ],
            [
             0.1,
             "#c51b7d"
            ],
            [
             0.2,
             "#de77ae"
            ],
            [
             0.3,
             "#f1b6da"
            ],
            [
             0.4,
             "#fde0ef"
            ],
            [
             0.5,
             "#f7f7f7"
            ],
            [
             0.6,
             "#e6f5d0"
            ],
            [
             0.7,
             "#b8e186"
            ],
            [
             0.8,
             "#7fbc41"
            ],
            [
             0.9,
             "#4d9221"
            ],
            [
             1,
             "#276419"
            ]
           ],
           "sequential": [
            [
             0,
             "#0d0887"
            ],
            [
             0.1111111111111111,
             "#46039f"
            ],
            [
             0.2222222222222222,
             "#7201a8"
            ],
            [
             0.3333333333333333,
             "#9c179e"
            ],
            [
             0.4444444444444444,
             "#bd3786"
            ],
            [
             0.5555555555555556,
             "#d8576b"
            ],
            [
             0.6666666666666666,
             "#ed7953"
            ],
            [
             0.7777777777777778,
             "#fb9f3a"
            ],
            [
             0.8888888888888888,
             "#fdca26"
            ],
            [
             1,
             "#f0f921"
            ]
           ],
           "sequentialminus": [
            [
             0,
             "#0d0887"
            ],
            [
             0.1111111111111111,
             "#46039f"
            ],
            [
             0.2222222222222222,
             "#7201a8"
            ],
            [
             0.3333333333333333,
             "#9c179e"
            ],
            [
             0.4444444444444444,
             "#bd3786"
            ],
            [
             0.5555555555555556,
             "#d8576b"
            ],
            [
             0.6666666666666666,
             "#ed7953"
            ],
            [
             0.7777777777777778,
             "#fb9f3a"
            ],
            [
             0.8888888888888888,
             "#fdca26"
            ],
            [
             1,
             "#f0f921"
            ]
           ]
          },
          "colorway": [
           "#636efa",
           "#EF553B",
           "#00cc96",
           "#ab63fa",
           "#FFA15A",
           "#19d3f3",
           "#FF6692",
           "#B6E880",
           "#FF97FF",
           "#FECB52"
          ],
          "font": {
           "color": "#2a3f5f"
          },
          "geo": {
           "bgcolor": "white",
           "lakecolor": "white",
           "landcolor": "white",
           "showlakes": true,
           "showland": true,
           "subunitcolor": "#C8D4E3"
          },
          "hoverlabel": {
           "align": "left"
          },
          "hovermode": "closest",
          "mapbox": {
           "style": "light"
          },
          "paper_bgcolor": "white",
          "plot_bgcolor": "white",
          "polar": {
           "angularaxis": {
            "gridcolor": "#EBF0F8",
            "linecolor": "#EBF0F8",
            "ticks": ""
           },
           "bgcolor": "white",
           "radialaxis": {
            "gridcolor": "#EBF0F8",
            "linecolor": "#EBF0F8",
            "ticks": ""
           }
          },
          "scene": {
           "xaxis": {
            "backgroundcolor": "white",
            "gridcolor": "#DFE8F3",
            "gridwidth": 2,
            "linecolor": "#EBF0F8",
            "showbackground": true,
            "ticks": "",
            "zerolinecolor": "#EBF0F8"
           },
           "yaxis": {
            "backgroundcolor": "white",
            "gridcolor": "#DFE8F3",
            "gridwidth": 2,
            "linecolor": "#EBF0F8",
            "showbackground": true,
            "ticks": "",
            "zerolinecolor": "#EBF0F8"
           },
           "zaxis": {
            "backgroundcolor": "white",
            "gridcolor": "#DFE8F3",
            "gridwidth": 2,
            "linecolor": "#EBF0F8",
            "showbackground": true,
            "ticks": "",
            "zerolinecolor": "#EBF0F8"
           }
          },
          "shapedefaults": {
           "line": {
            "color": "#2a3f5f"
           }
          },
          "ternary": {
           "aaxis": {
            "gridcolor": "#DFE8F3",
            "linecolor": "#A2B1C6",
            "ticks": ""
           },
           "baxis": {
            "gridcolor": "#DFE8F3",
            "linecolor": "#A2B1C6",
            "ticks": ""
           },
           "bgcolor": "white",
           "caxis": {
            "gridcolor": "#DFE8F3",
            "linecolor": "#A2B1C6",
            "ticks": ""
           }
          },
          "title": {
           "x": 0.05
          },
          "xaxis": {
           "automargin": true,
           "gridcolor": "#EBF0F8",
           "linecolor": "#EBF0F8",
           "ticks": "",
           "title": {
            "standoff": 15
           },
           "zerolinecolor": "#EBF0F8",
           "zerolinewidth": 2
          },
          "yaxis": {
           "automargin": true,
           "gridcolor": "#EBF0F8",
           "linecolor": "#EBF0F8",
           "ticks": "",
           "title": {
            "standoff": 15
           },
           "zerolinecolor": "#EBF0F8",
           "zerolinewidth": 2
          }
         }
        },
        "xaxis": {
         "title": {
          "text": "Date"
         }
        },
        "yaxis": {
         "title": {
          "text": "Emails Sent that Day"
         }
        }
       }
      },
      "text/html": [
       "<div>                            <div id=\"4c67cac4-2630-43ed-9f09-8000af06e949\" class=\"plotly-graph-div\" style=\"height:525px; width:100%;\"></div>            <script type=\"text/javascript\">                require([\"plotly\"], function(Plotly) {                    window.PLOTLYENV=window.PLOTLYENV || {};                                    if (document.getElementById(\"4c67cac4-2630-43ed-9f09-8000af06e949\")) {                    Plotly.newPlot(                        \"4c67cac4-2630-43ed-9f09-8000af06e949\",                        [{\"type\": \"bar\", \"x\": [\" Fri, 11 Aug 2000 02:13:00 -0700 (PDT)\", \" Fri, 11 May 2001 00:18:00 -0700 (PDT)\", \" Fri, 11 May 2001 07:09:00 -0700 (PDT)\", \" Fri, 14 Apr 2000 08:25:00 -0700 (PDT)\", \" Fri, 14 Apr 2000 11:11:00 -0700 (PDT)\", \" Fri, 14 Jul 2000 02:22:00 -0700 (PDT)\", \" Fri, 14 Jul 2000 07:17:00 -0700 (PDT)\", \" Fri, 16 Feb 2001 10:07:00 -0800 (PST)\", \" Fri, 16 Jun 2000 01:45:00 -0700 (PDT)\", \" Fri, 16 Mar 2001 00:32:00 -0800 (PST)\", \" Fri, 16 Mar 2001 05:56:00 -0800 (PST)\", \" Fri, 2 Jul 1999 03:34:00 -0700 (PDT)\", \" Fri, 2 Jul 1999 03:36:00 -0700 (PDT)\", \" Fri, 2 Jun 2000 10:44:00 -0700 (PDT)\", \" Fri, 2 Jun 2000 10:55:00 -0700 (PDT)\", \" Fri, 21 Apr 2000 04:37:00 -0700 (PDT)\", \" Fri, 21 Apr 2000 06:23:00 -0700 (PDT)\", \" Fri, 23 Mar 2001 07:07:00 -0800 (PST)\", \" Fri, 23 Mar 2001 07:34:00 -0800 (PST)\", \" Fri, 23 Mar 2001 09:35:00 -0800 (PST)\", \" Fri, 25 Aug 2000 08:15:00 -0700 (PDT)\", \" Fri, 26 May 2000 03:03:00 -0700 (PDT)\", \" Fri, 26 May 2000 08:05:00 -0700 (PDT)\", \" Fri, 27 Apr 2001 03:27:00 -0700 (PDT)\", \" Fri, 28 Apr 2000 08:53:00 -0700 (PDT)\", \" Fri, 3 Mar 2000 09:36:00 -0800 (PST)\", \" Fri, 4 Aug 2000 05:40:00 -0700 (PDT)\", \" Fri, 4 Aug 2000 08:52:00 -0700 (PDT)\", \" Fri, 5 May 2000 01:45:00 -0700 (PDT)\", \" Fri, 7 Apr 2000 03:58:00 -0700 (PDT)\", \" Fri, 8 Sep 2000 07:02:00 -0700 (PDT)\", \" Fri, 8 Sep 2000 11:26:00 -0700 (PDT)\", \" Fri, 8 Sep 2000 12:01:00 -0700 (PDT)\", \" Fri, 8 Sep 2000 12:08:00 -0700 (PDT)\", \" Fri, 8 Sep 2000 12:09:00 -0700 (PDT)\", \" Fri, 8 Sep 2000 12:10:00 -0700 (PDT)\", \" Mon, 10 Jul 2000 07:00:00 -0700 (PDT)\", \" Mon, 10 Jul 2000 11:28:00 -0700 (PDT)\", \" Mon, 10 Jul 2000 11:41:00 -0700 (PDT)\", \" Mon, 11 Dec 2000 02:49:00 -0800 (PST)\", \" Mon, 11 Dec 2000 06:39:00 -0800 (PST)\", \" Mon, 11 Dec 2000 09:04:00 -0800 (PST)\", \" Mon, 11 Sep 2000 02:16:00 -0700 (PDT)\", \" Mon, 12 Jun 2000 23:51:00 -0700 (PDT)\", \" Mon, 12 Mar 2001 07:24:00 -0800 (PST)\", \" Mon, 12 Mar 2001 07:25:00 -0800 (PST)\", \" Mon, 14 May 2001 07:27:00 -0700 (PDT)\", \" Mon, 15 May 2000 10:36:00 -0700 (PDT)\", \" Mon, 15 May 2000 10:37:00 -0700 (PDT)\", \" Mon, 16 Apr 2001 04:18:00 -0700 (PDT)\", \" Mon, 16 Apr 2001 04:19:00 -0700 (PDT)\", \" Mon, 16 Apr 2001 08:42:00 -0700 (PDT)\", \" Mon, 16 Apr 2001 09:52:00 -0700 (PDT)\", \" Mon, 16 Aug 1999 02:17:00 -0700 (PDT)\", \" Mon, 17 Jan 2000 09:35:00 -0800 (PST)\", \" Mon, 17 Jan 2000 09:40:00 -0800 (PST)\", \" Mon, 17 Jul 2000 06:14:00 -0700 (PDT)\", \" Mon, 19 Mar 2001 01:27:00 -0800 (PST)\", \" Mon, 19 Mar 2001 01:28:00 -0800 (PST)\", \" Mon, 19 Mar 2001 03:28:00 -0800 (PST)\", \" Mon, 19 Mar 2001 03:34:00 -0800 (PST)\", \" Mon, 19 Mar 2001 06:26:00 -0800 (PST)\", \" Mon, 19 Mar 2001 07:32:00 -0800 (PST)\", \" Mon, 2 Apr 2001 03:55:00 -0700 (PDT)\", \" Mon, 2 Apr 2001 11:17:00 -0700 (PDT)\", \" Mon, 2 Oct 2000 03:27:00 -0700 (PDT)\", \" Mon, 2 Oct 2000 09:54:00 -0700 (PDT)\", \" Mon, 20 Nov 2000 03:42:00 -0800 (PST)\", \" Mon, 20 Nov 2000 04:48:00 -0800 (PST)\", \" Mon, 21 Aug 2000 05:18:00 -0700 (PDT)\", \" Mon, 21 Aug 2000 09:35:00 -0700 (PDT)\", \" Mon, 22 May 2000 03:38:00 -0700 (PDT)\", \" Mon, 24 Jul 2000 08:11:00 -0700 (PDT)\", \" Mon, 25 Sep 2000 03:39:00 -0700 (PDT)\", \" Mon, 26 Mar 2001 02:25:00 -0800 (PST)\", \" Mon, 26 Mar 2001 09:15:00 -0800 (PST)\", \" Mon, 26 Mar 2001 10:12:00 -0800 (PST)\", \" Mon, 27 Nov 2000 01:13:00 -0800 (PST)\", \" Mon, 28 Aug 2000 10:14:00 -0700 (PDT)\", \" Mon, 3 Apr 2000 08:45:00 -0700 (PDT)\", \" Mon, 3 Apr 2000 09:41:00 -0700 (PDT)\", \" Mon, 3 Apr 2000 12:19:00 -0700 (PDT)\", \" Mon, 30 Apr 2001 05:56:00 -0700 (PDT)\", \" Mon, 30 Apr 2001 06:15:00 -0700 (PDT)\", \" Mon, 30 Apr 2001 06:59:00 -0700 (PDT)\", \" Mon, 30 Apr 2001 09:51:00 -0700 (PDT)\", \" Mon, 30 Apr 2001 23:12:00 -0700 (PDT)\", \" Mon, 30 Apr 2001 23:17:00 -0700 (PDT)\", \" Mon, 30 Apr 2001 23:28:00 -0700 (PDT)\", \" Mon, 30 Apr 2001 23:30:00 -0700 (PDT)\", \" Mon, 30 Oct 2000 03:02:00 -0800 (PST)\", \" Mon, 30 Oct 2000 23:48:00 -0800 (PST)\", \" Mon, 31 Jul 2000 09:40:00 -0700 (PDT)\", \" Mon, 5 Jun 2000 06:35:00 -0700 (PDT)\", \" Mon, 6 Nov 2000 01:55:00 -0800 (PST)\", \" Mon, 6 Nov 2000 09:27:00 -0800 (PST)\", \" Mon, 6 Nov 2000 23:06:00 -0800 (PST)\", \" Mon, 9 Apr 2001 09:53:00 -0700 (PDT)\", \" Sat, 1 Jul 2000 15:13:00 -0700 (PDT)\", \" Sat, 12 Feb 2000 01:33:00 -0800 (PST)\", \" Sat, 15 Apr 2000 12:05:00 -0700 (PDT)\", \" Sun, 10 Sep 2000 23:23:00 -0700 (PDT)\", \" Sun, 25 Feb 2001 20:16:00 -0800 (PST)\", \" Sun, 27 Feb 2000 09:14:00 -0800 (PST)\", \" Thu, 1 Jun 2000 02:20:00 -0700 (PDT)\", \" Thu, 1 Mar 2001 23:59:00 -0800 (PST)\", \" Thu, 10 Aug 2000 01:58:00 -0700 (PDT)\", \" Thu, 10 Aug 2000 03:27:00 -0700 (PDT)\", \" Thu, 12 Apr 2001 09:54:00 -0700 (PDT)\", \" Thu, 12 Apr 2001 11:49:00 -0700 (PDT)\", \" Thu, 15 Mar 2001 03:01:00 -0800 (PST)\", \" Thu, 15 Mar 2001 03:41:00 -0800 (PST)\", \" Thu, 15 Mar 2001 05:42:00 -0800 (PST)\", \" Thu, 15 Mar 2001 08:22:00 -0800 (PST)\", \" Thu, 17 Feb 2000 01:02:00 -0800 (PST)\", \" Thu, 17 Feb 2000 05:00:00 -0800 (PST)\", \" Thu, 18 May 2000 01:25:00 -0700 (PDT)\", \" Thu, 19 Apr 2001 11:37:00 -0700 (PDT)\", \" Thu, 19 Aug 1999 02:18:00 -0700 (PDT)\", \" Thu, 20 Jan 2000 03:17:00 -0800 (PST)\", \" Thu, 21 Sep 2000 01:41:00 -0700 (PDT)\", \" Thu, 21 Sep 2000 09:10:00 -0700 (PDT)\", \" Thu, 22 Mar 2001 01:42:00 -0800 (PST)\", \" Thu, 22 Mar 2001 23:04:00 -0800 (PST)\", \" Thu, 22 Mar 2001 23:05:00 -0800 (PST)\", \" Thu, 22 Mar 2001 23:06:00 -0800 (PST)\", \" Thu, 22 Mar 2001 23:07:00 -0800 (PST)\", \" Thu, 22 Mar 2001 23:08:00 -0800 (PST)\", \" Thu, 25 May 2000 01:43:00 -0700 (PDT)\", \" Thu, 25 May 2000 04:34:00 -0700 (PDT)\", \" Thu, 26 Oct 2000 00:25:00 -0700 (PDT)\", \" Thu, 27 Jan 2000 10:27:00 -0800 (PST)\", \" Thu, 28 Sep 2000 08:14:00 -0700 (PDT)\", \" Thu, 28 Sep 2000 08:15:00 -0700 (PDT)\", \" Thu, 29 Mar 2001 10:05:00 -0800 (PST)\", \" Thu, 3 May 2001 01:52:00 -0700 (PDT)\", \" Thu, 3 May 2001 05:46:00 -0700 (PDT)\", \" Thu, 3 May 2001 06:11:00 -0700 (PDT)\", \" Thu, 3 May 2001 11:31:00 -0700 (PDT)\", \" Thu, 30 Nov 2000 01:36:00 -0800 (PST)\", \" Thu, 30 Nov 2000 10:27:00 -0800 (PST)\", \" Thu, 5 Apr 2001 09:40:00 -0700 (PDT)\", \" Thu, 5 Apr 2001 11:21:00 -0700 (PDT)\", \" Thu, 5 Apr 2001 11:41:00 -0700 (PDT)\", \" Thu, 7 Dec 2000 04:49:00 -0800 (PST)\", \" Thu, 9 Nov 2000 01:58:00 -0800 (PST)\", \" Thu, 9 Nov 2000 20:31:00 -0800 (PST)\", \" Tue, 1 Aug 2000 07:57:00 -0700 (PDT)\", \" Tue, 1 Feb 2000 22:04:00 -0800 (PST)\", \" Tue, 1 May 2001 00:57:00 -0700 (PDT)\", \" Tue, 1 May 2001 01:00:00 -0700 (PDT)\", \" Tue, 10 Apr 2001 02:16:00 -0700 (PDT)\", \" Tue, 11 Apr 2000 05:17:00 -0700 (PDT)\", \" Tue, 11 Apr 2000 07:25:00 -0700 (PDT)\", \" Tue, 11 Apr 2000 10:55:00 -0700 (PDT)\", \" Tue, 13 Jun 2000 10:47:00 -0700 (PDT)\", \" Tue, 13 Mar 2001 00:28:00 -0800 (PST)\", \" Tue, 13 Mar 2001 00:29:00 -0800 (PST)\", \" Tue, 15 Aug 2000 05:14:00 -0700 (PDT)\", \" Tue, 18 Apr 2000 11:51:00 -0700 (PDT)\", \" Tue, 18 Jan 2000 01:50:00 -0800 (PST)\", \" Tue, 19 Sep 2000 06:40:00 -0700 (PDT)\", \" Tue, 20 Jun 2000 01:22:00 -0700 (PDT)\", \" Tue, 20 Jun 2000 02:20:00 -0700 (PDT)\", \" Tue, 20 Jun 2000 06:26:00 -0700 (PDT)\", \" Tue, 20 Jun 2000 09:23:00 -0700 (PDT)\", \" Tue, 20 Jun 2000 11:00:00 -0700 (PDT)\", \" Tue, 21 Nov 2000 03:40:00 -0800 (PST)\", \" Tue, 21 Nov 2000 04:19:00 -0800 (PST)\", \" Tue, 22 Aug 2000 08:44:00 -0700 (PDT)\", \" Tue, 24 Apr 2001 05:12:00 -0700 (PDT)\", \" Tue, 24 Apr 2001 10:26:00 -0700 (PDT)\", \" Tue, 25 Jul 2000 06:14:00 -0700 (PDT)\", \" Tue, 26 Sep 2000 00:54:00 -0700 (PDT)\", \" Tue, 26 Sep 2000 09:26:00 -0700 (PDT)\", \" Tue, 27 Feb 2001 01:05:00 -0800 (PST)\", \" Tue, 27 Jun 2000 10:35:00 -0700 (PDT)\", \" Tue, 27 Jun 2000 10:36:00 -0700 (PDT)\", \" Tue, 27 Mar 2001 03:53:00 -0800 (PST)\", \" Tue, 28 Nov 2000 01:22:00 -0800 (PST)\", \" Tue, 29 Feb 2000 05:30:00 -0800 (PST)\", \" Tue, 29 Feb 2000 05:33:00 -0800 (PST)\", \" Tue, 29 Feb 2000 06:03:00 -0800 (PST)\", \" Tue, 29 Feb 2000 06:05:00 -0800 (PST)\", \" Tue, 3 Apr 2001 03:53:00 -0700 (PDT)\", \" Tue, 3 Apr 2001 09:15:00 -0700 (PDT)\", \" Tue, 3 Oct 2000 00:23:00 -0700 (PDT)\", \" Tue, 3 Oct 2000 01:07:00 -0700 (PDT)\", \" Tue, 30 May 2000 02:48:00 -0700 (PDT)\", \" Tue, 30 May 2000 07:06:00 -0700 (PDT)\", \" Tue, 31 Oct 2000 05:51:00 -0800 (PST)\", \" Tue, 5 Sep 2000 06:46:00 -0700 (PDT)\", \" Tue, 5 Sep 2000 09:01:00 -0700 (PDT)\", \" Tue, 6 Jun 2000 04:45:00 -0700 (PDT)\", \" Tue, 8 Aug 2000 05:54:00 -0700 (PDT)\", \" Tue, 8 Aug 2000 06:33:00 -0700 (PDT)\", \" Tue, 8 Feb 2000 04:28:00 -0800 (PST)\", \" Tue, 8 Feb 2000 10:03:00 -0800 (PST)\", \" Tue, 8 May 2001 05:43:00 -0700 (PDT)\", \" Tue, 9 May 2000 06:30:00 -0700 (PDT)\", \" Tue, 9 May 2000 06:38:00 -0700 (PDT)\", \" Tue, 9 May 2000 07:44:00 -0700 (PDT)\", \" Tue, 9 May 2000 08:07:00 -0700 (PDT)\", \" Tue, 9 May 2000 08:42:00 -0700 (PDT)\", \" Tue, 9 May 2000 13:05:00 -0700 (PDT)\", \" Wed, 1 Mar 2000 09:35:00 -0800 (PST)\", \" Wed, 1 Mar 2000 10:22:00 -0800 (PST)\", \" Wed, 12 Jan 2000 08:24:00 -0800 (PST)\", \" Wed, 12 Jul 2000 11:10:00 -0700 (PDT)\", \" Wed, 12 Jul 2000 11:12:00 -0700 (PDT)\", \" Wed, 13 Dec 2000 06:38:00 -0800 (PST)\", \" Wed, 16 Aug 2000 00:52:00 -0700 (PDT)\", \" Wed, 16 May 2001 07:58:00 -0700 (PDT)\", \" Wed, 16 May 2001 09:21:00 -0700 (PDT)\", \" Wed, 17 May 2000 01:31:00 -0700 (PDT)\", \" Wed, 17 May 2000 06:50:00 -0700 (PDT)\", \" Wed, 18 Apr 2001 10:46:00 -0700 (PDT)\", \" Wed, 19 Jan 2000 02:21:00 -0800 (PST)\", \" Wed, 2 Feb 2000 06:48:00 -0800 (PST)\", \" Wed, 20 Sep 2000 01:27:00 -0700 (PDT)\", \" Wed, 21 Jun 2000 01:35:00 -0700 (PDT)\", \" Wed, 21 Jun 2000 06:41:00 -0700 (PDT)\", \" Wed, 21 Mar 2001 08:12:00 -0800 (PST)\", \" Wed, 21 Mar 2001 09:12:00 -0800 (PST)\", \" Wed, 23 Aug 2000 02:16:00 -0700 (PDT)\", \" Wed, 23 Aug 2000 07:21:00 -0700 (PDT)\", \" Wed, 25 Apr 2001 08:27:00 -0700 (PDT)\", \" Wed, 25 Apr 2001 10:21:00 -0700 (PDT)\", \" Wed, 25 Oct 2000 00:23:00 -0700 (PDT)\", \" Wed, 25 Oct 2000 02:29:00 -0700 (PDT)\", \" Wed, 26 Jan 2000 09:48:00 -0800 (PST)\", \" Wed, 26 Jul 2000 10:35:00 -0700 (PDT)\", \" Wed, 27 Sep 2000 06:11:00 -0700 (PDT)\", \" Wed, 28 Feb 2001 01:10:00 -0800 (PST)\", \" Wed, 28 Feb 2001 01:11:00 -0800 (PST)\", \" Wed, 28 Feb 2001 04:43:00 -0800 (PST)\", \" Wed, 28 Feb 2001 07:24:00 -0800 (PST)\", \" Wed, 28 Feb 2001 10:03:00 -0800 (PST)\", \" Wed, 28 Jun 2000 10:58:00 -0700 (PDT)\", \" Wed, 28 Mar 2001 07:50:00 -0800 (PST)\", \" Wed, 29 Nov 2000 23:39:00 -0800 (PST)\", \" Wed, 30 Aug 2000 10:37:00 -0700 (PDT)\", \" Wed, 4 Oct 2000 11:45:00 -0700 (PDT)\", \" Wed, 5 Apr 2000 09:51:00 -0700 (PDT)\", \" Wed, 6 Dec 2000 10:44:00 -0800 (PST)\", \" Wed, 7 Jun 2000 05:30:00 -0700 (PDT)\", \" Wed, 8 Mar 2000 00:48:00 -0800 (PST)\", \" Wed, 9 Aug 2000 06:24:00 -0700 (PDT)\", \" Wed, 9 Feb 2000 10:38:00 -0800 (PST)\", \" Wed, 9 May 2001 04:53:00 -0700 (PDT)\"], \"y\": [1, 1, 1, 3, 1, 1, 2, 1, 3, 1, 1, 1, 1, 1, 1, 1, 1, 2, 1, 1, 3, 1, 1, 1, 1, 3, 1, 1, 1, 1, 1, 1, 1, 1, 1, 1, 1, 1, 1, 1, 1, 1, 1, 1, 1, 1, 1, 1, 1, 1, 1, 1, 1, 3, 1, 1, 1, 1, 1, 1, 1, 1, 1, 1, 1, 1, 1, 1, 1, 1, 1, 1, 1, 1, 1, 1, 1, 1, 1, 1, 1, 1, 1, 1, 1, 1, 1, 1, 1, 1, 1, 1, 1, 1, 1, 1, 1, 1, 1, 1, 1, 1, 1, 1, 1, 3, 1, 1, 1, 1, 1, 1, 1, 1, 1, 1, 1, 1, 1, 1, 1, 1, 1, 1, 1, 1, 1, 1, 1, 1, 1, 1, 1, 1, 1, 1, 1, 1, 1, 1, 1, 1, 1, 1, 1, 1, 1, 1, 1, 1, 1, 1, 1, 1, 1, 1, 1, 1, 1, 1, 1, 1, 1, 1, 1, 3, 1, 1, 1, 1, 1, 1, 1, 1, 1, 1, 1, 1, 1, 1, 1, 1, 1, 1, 1, 1, 1, 1, 1, 1, 1, 1, 1, 1, 1, 1, 1, 1, 1, 1, 1, 1, 1, 1, 1, 1, 1, 1, 1, 1, 1, 1, 1, 1, 1, 1, 1, 1, 1, 1, 1, 1, 1, 1, 1, 1, 1, 1, 1, 1, 1, 1, 2, 1, 1, 1, 1, 1, 1, 1, 1, 1, 1, 1, 1, 1, 1, 1, 1, 1]}],                        {\"template\": {\"data\": {\"bar\": [{\"error_x\": {\"color\": \"#2a3f5f\"}, \"error_y\": {\"color\": \"#2a3f5f\"}, \"marker\": {\"line\": {\"color\": \"white\", \"width\": 0.5}}, \"type\": \"bar\"}], \"barpolar\": [{\"marker\": {\"line\": {\"color\": \"white\", \"width\": 0.5}}, \"type\": \"barpolar\"}], \"carpet\": [{\"aaxis\": {\"endlinecolor\": \"#2a3f5f\", \"gridcolor\": \"#C8D4E3\", \"linecolor\": \"#C8D4E3\", \"minorgridcolor\": \"#C8D4E3\", \"startlinecolor\": \"#2a3f5f\"}, \"baxis\": {\"endlinecolor\": \"#2a3f5f\", \"gridcolor\": \"#C8D4E3\", \"linecolor\": \"#C8D4E3\", \"minorgridcolor\": \"#C8D4E3\", \"startlinecolor\": \"#2a3f5f\"}, \"type\": \"carpet\"}], \"choropleth\": [{\"colorbar\": {\"outlinewidth\": 0, \"ticks\": \"\"}, \"type\": \"choropleth\"}], \"contour\": [{\"colorbar\": {\"outlinewidth\": 0, \"ticks\": \"\"}, \"colorscale\": [[0.0, \"#0d0887\"], [0.1111111111111111, \"#46039f\"], [0.2222222222222222, \"#7201a8\"], [0.3333333333333333, \"#9c179e\"], [0.4444444444444444, \"#bd3786\"], [0.5555555555555556, \"#d8576b\"], [0.6666666666666666, \"#ed7953\"], [0.7777777777777778, \"#fb9f3a\"], [0.8888888888888888, \"#fdca26\"], [1.0, \"#f0f921\"]], \"type\": \"contour\"}], \"contourcarpet\": [{\"colorbar\": {\"outlinewidth\": 0, \"ticks\": \"\"}, \"type\": \"contourcarpet\"}], \"heatmap\": [{\"colorbar\": {\"outlinewidth\": 0, \"ticks\": \"\"}, \"colorscale\": [[0.0, \"#0d0887\"], [0.1111111111111111, \"#46039f\"], [0.2222222222222222, \"#7201a8\"], [0.3333333333333333, \"#9c179e\"], [0.4444444444444444, \"#bd3786\"], [0.5555555555555556, \"#d8576b\"], [0.6666666666666666, \"#ed7953\"], [0.7777777777777778, \"#fb9f3a\"], [0.8888888888888888, \"#fdca26\"], [1.0, \"#f0f921\"]], \"type\": \"heatmap\"}], \"heatmapgl\": [{\"colorbar\": {\"outlinewidth\": 0, \"ticks\": \"\"}, \"colorscale\": [[0.0, \"#0d0887\"], [0.1111111111111111, \"#46039f\"], [0.2222222222222222, \"#7201a8\"], [0.3333333333333333, \"#9c179e\"], [0.4444444444444444, \"#bd3786\"], [0.5555555555555556, \"#d8576b\"], [0.6666666666666666, \"#ed7953\"], [0.7777777777777778, \"#fb9f3a\"], [0.8888888888888888, \"#fdca26\"], [1.0, \"#f0f921\"]], \"type\": \"heatmapgl\"}], \"histogram\": [{\"marker\": {\"colorbar\": {\"outlinewidth\": 0, \"ticks\": \"\"}}, \"type\": \"histogram\"}], \"histogram2d\": [{\"colorbar\": {\"outlinewidth\": 0, \"ticks\": \"\"}, \"colorscale\": [[0.0, \"#0d0887\"], [0.1111111111111111, \"#46039f\"], [0.2222222222222222, \"#7201a8\"], [0.3333333333333333, \"#9c179e\"], [0.4444444444444444, \"#bd3786\"], [0.5555555555555556, \"#d8576b\"], [0.6666666666666666, \"#ed7953\"], [0.7777777777777778, \"#fb9f3a\"], [0.8888888888888888, \"#fdca26\"], [1.0, \"#f0f921\"]], \"type\": \"histogram2d\"}], \"histogram2dcontour\": [{\"colorbar\": {\"outlinewidth\": 0, \"ticks\": \"\"}, \"colorscale\": [[0.0, \"#0d0887\"], [0.1111111111111111, \"#46039f\"], [0.2222222222222222, \"#7201a8\"], [0.3333333333333333, \"#9c179e\"], [0.4444444444444444, \"#bd3786\"], [0.5555555555555556, \"#d8576b\"], [0.6666666666666666, \"#ed7953\"], [0.7777777777777778, \"#fb9f3a\"], [0.8888888888888888, \"#fdca26\"], [1.0, \"#f0f921\"]], \"type\": \"histogram2dcontour\"}], \"mesh3d\": [{\"colorbar\": {\"outlinewidth\": 0, \"ticks\": \"\"}, \"type\": \"mesh3d\"}], \"parcoords\": [{\"line\": {\"colorbar\": {\"outlinewidth\": 0, \"ticks\": \"\"}}, \"type\": \"parcoords\"}], \"pie\": [{\"automargin\": true, \"type\": \"pie\"}], \"scatter\": [{\"marker\": {\"colorbar\": {\"outlinewidth\": 0, \"ticks\": \"\"}}, \"type\": \"scatter\"}], \"scatter3d\": [{\"line\": {\"colorbar\": {\"outlinewidth\": 0, \"ticks\": \"\"}}, \"marker\": {\"colorbar\": {\"outlinewidth\": 0, \"ticks\": \"\"}}, \"type\": \"scatter3d\"}], \"scattercarpet\": [{\"marker\": {\"colorbar\": {\"outlinewidth\": 0, \"ticks\": \"\"}}, \"type\": \"scattercarpet\"}], \"scattergeo\": [{\"marker\": {\"colorbar\": {\"outlinewidth\": 0, \"ticks\": \"\"}}, \"type\": \"scattergeo\"}], \"scattergl\": [{\"marker\": {\"colorbar\": {\"outlinewidth\": 0, \"ticks\": \"\"}}, \"type\": \"scattergl\"}], \"scattermapbox\": [{\"marker\": {\"colorbar\": {\"outlinewidth\": 0, \"ticks\": \"\"}}, \"type\": \"scattermapbox\"}], \"scatterpolar\": [{\"marker\": {\"colorbar\": {\"outlinewidth\": 0, \"ticks\": \"\"}}, \"type\": \"scatterpolar\"}], \"scatterpolargl\": [{\"marker\": {\"colorbar\": {\"outlinewidth\": 0, \"ticks\": \"\"}}, \"type\": \"scatterpolargl\"}], \"scatterternary\": [{\"marker\": {\"colorbar\": {\"outlinewidth\": 0, \"ticks\": \"\"}}, \"type\": \"scatterternary\"}], \"surface\": [{\"colorbar\": {\"outlinewidth\": 0, \"ticks\": \"\"}, \"colorscale\": [[0.0, \"#0d0887\"], [0.1111111111111111, \"#46039f\"], [0.2222222222222222, \"#7201a8\"], [0.3333333333333333, \"#9c179e\"], [0.4444444444444444, \"#bd3786\"], [0.5555555555555556, \"#d8576b\"], [0.6666666666666666, \"#ed7953\"], [0.7777777777777778, \"#fb9f3a\"], [0.8888888888888888, \"#fdca26\"], [1.0, \"#f0f921\"]], \"type\": \"surface\"}], \"table\": [{\"cells\": {\"fill\": {\"color\": \"#EBF0F8\"}, \"line\": {\"color\": \"white\"}}, \"header\": {\"fill\": {\"color\": \"#C8D4E3\"}, \"line\": {\"color\": \"white\"}}, \"type\": \"table\"}]}, \"layout\": {\"annotationdefaults\": {\"arrowcolor\": \"#2a3f5f\", \"arrowhead\": 0, \"arrowwidth\": 1}, \"autotypenumbers\": \"strict\", \"coloraxis\": {\"colorbar\": {\"outlinewidth\": 0, \"ticks\": \"\"}}, \"colorscale\": {\"diverging\": [[0, \"#8e0152\"], [0.1, \"#c51b7d\"], [0.2, \"#de77ae\"], [0.3, \"#f1b6da\"], [0.4, \"#fde0ef\"], [0.5, \"#f7f7f7\"], [0.6, \"#e6f5d0\"], [0.7, \"#b8e186\"], [0.8, \"#7fbc41\"], [0.9, \"#4d9221\"], [1, \"#276419\"]], \"sequential\": [[0.0, \"#0d0887\"], [0.1111111111111111, \"#46039f\"], [0.2222222222222222, \"#7201a8\"], [0.3333333333333333, \"#9c179e\"], [0.4444444444444444, \"#bd3786\"], [0.5555555555555556, \"#d8576b\"], [0.6666666666666666, \"#ed7953\"], [0.7777777777777778, \"#fb9f3a\"], [0.8888888888888888, \"#fdca26\"], [1.0, \"#f0f921\"]], \"sequentialminus\": [[0.0, \"#0d0887\"], [0.1111111111111111, \"#46039f\"], [0.2222222222222222, \"#7201a8\"], [0.3333333333333333, \"#9c179e\"], [0.4444444444444444, \"#bd3786\"], [0.5555555555555556, \"#d8576b\"], [0.6666666666666666, \"#ed7953\"], [0.7777777777777778, \"#fb9f3a\"], [0.8888888888888888, \"#fdca26\"], [1.0, \"#f0f921\"]]}, \"colorway\": [\"#636efa\", \"#EF553B\", \"#00cc96\", \"#ab63fa\", \"#FFA15A\", \"#19d3f3\", \"#FF6692\", \"#B6E880\", \"#FF97FF\", \"#FECB52\"], \"font\": {\"color\": \"#2a3f5f\"}, \"geo\": {\"bgcolor\": \"white\", \"lakecolor\": \"white\", \"landcolor\": \"white\", \"showlakes\": true, \"showland\": true, \"subunitcolor\": \"#C8D4E3\"}, \"hoverlabel\": {\"align\": \"left\"}, \"hovermode\": \"closest\", \"mapbox\": {\"style\": \"light\"}, \"paper_bgcolor\": \"white\", \"plot_bgcolor\": \"white\", \"polar\": {\"angularaxis\": {\"gridcolor\": \"#EBF0F8\", \"linecolor\": \"#EBF0F8\", \"ticks\": \"\"}, \"bgcolor\": \"white\", \"radialaxis\": {\"gridcolor\": \"#EBF0F8\", \"linecolor\": \"#EBF0F8\", \"ticks\": \"\"}}, \"scene\": {\"xaxis\": {\"backgroundcolor\": \"white\", \"gridcolor\": \"#DFE8F3\", \"gridwidth\": 2, \"linecolor\": \"#EBF0F8\", \"showbackground\": true, \"ticks\": \"\", \"zerolinecolor\": \"#EBF0F8\"}, \"yaxis\": {\"backgroundcolor\": \"white\", \"gridcolor\": \"#DFE8F3\", \"gridwidth\": 2, \"linecolor\": \"#EBF0F8\", \"showbackground\": true, \"ticks\": \"\", \"zerolinecolor\": \"#EBF0F8\"}, \"zaxis\": {\"backgroundcolor\": \"white\", \"gridcolor\": \"#DFE8F3\", \"gridwidth\": 2, \"linecolor\": \"#EBF0F8\", \"showbackground\": true, \"ticks\": \"\", \"zerolinecolor\": \"#EBF0F8\"}}, \"shapedefaults\": {\"line\": {\"color\": \"#2a3f5f\"}}, \"ternary\": {\"aaxis\": {\"gridcolor\": \"#DFE8F3\", \"linecolor\": \"#A2B1C6\", \"ticks\": \"\"}, \"baxis\": {\"gridcolor\": \"#DFE8F3\", \"linecolor\": \"#A2B1C6\", \"ticks\": \"\"}, \"bgcolor\": \"white\", \"caxis\": {\"gridcolor\": \"#DFE8F3\", \"linecolor\": \"#A2B1C6\", \"ticks\": \"\"}}, \"title\": {\"x\": 0.05}, \"xaxis\": {\"automargin\": true, \"gridcolor\": \"#EBF0F8\", \"linecolor\": \"#EBF0F8\", \"ticks\": \"\", \"title\": {\"standoff\": 15}, \"zerolinecolor\": \"#EBF0F8\", \"zerolinewidth\": 2}, \"yaxis\": {\"automargin\": true, \"gridcolor\": \"#EBF0F8\", \"linecolor\": \"#EBF0F8\", \"ticks\": \"\", \"title\": {\"standoff\": 15}, \"zerolinecolor\": \"#EBF0F8\", \"zerolinewidth\": 2}}}, \"xaxis\": {\"title\": {\"text\": \"Date\"}}, \"yaxis\": {\"title\": {\"text\": \"Emails Sent that Day\"}}},                        {\"responsive\": true}                    ).then(function(){\n",
       "                            \n",
       "var gd = document.getElementById('4c67cac4-2630-43ed-9f09-8000af06e949');\n",
       "var x = new MutationObserver(function (mutations, observer) {{\n",
       "        var display = window.getComputedStyle(gd).display;\n",
       "        if (!display || display === 'none') {{\n",
       "            console.log([gd, 'removed!']);\n",
       "            Plotly.purge(gd);\n",
       "            observer.disconnect();\n",
       "        }}\n",
       "}});\n",
       "\n",
       "// Listen for the removal of the full notebook cells\n",
       "var notebookContainer = gd.closest('#notebook-container');\n",
       "if (notebookContainer) {{\n",
       "    x.observe(notebookContainer, {childList: true});\n",
       "}}\n",
       "\n",
       "// Listen for the clearing of the current output cell\n",
       "var outputEl = gd.closest('.output');\n",
       "if (outputEl) {{\n",
       "    x.observe(outputEl, {childList: true});\n",
       "}}\n",
       "\n",
       "                        })                };                });            </script>        </div>"
      ]
     },
     "metadata": {},
     "output_type": "display_data"
    }
   ],
   "source": [
    "# Used for data QA\n",
    "import plotly.graph_objects as go\n",
    "\n",
    "fig = go.Figure([go.Bar(x=freq['datetime'], y=freq['from_email'])])\n",
    "fig.update_layout(\n",
    "    #title=\"Number of Enron Email Accounts for each Manager\",\n",
    "    xaxis_title=\"Date\",\n",
    "    yaxis_title=\"Emails Sent that Day\",\n",
    "    template = 'plotly_white'\n",
    ")\n",
    "fig.show()"
   ]
  },
  {
   "cell_type": "code",
   "execution_count": null,
   "id": "635135f4",
   "metadata": {},
   "outputs": [],
   "source": []
  }
 ],
 "metadata": {
  "kernelspec": {
   "display_name": "Python 3",
   "language": "python",
   "name": "python3"
  },
  "language_info": {
   "codemirror_mode": {
    "name": "ipython",
    "version": 3
   },
   "file_extension": ".py",
   "mimetype": "text/x-python",
   "name": "python",
   "nbconvert_exporter": "python",
   "pygments_lexer": "ipython3",
   "version": "3.8.8"
  }
 },
 "nbformat": 4,
 "nbformat_minor": 5
}
