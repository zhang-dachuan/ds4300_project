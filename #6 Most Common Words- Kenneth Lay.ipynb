{
 "cells": [
  {
   "cell_type": "markdown",
   "id": "7b0313a5",
   "metadata": {},
   "source": [
    "## Data Exploration: Most Common Words- Kenneth Lay"
   ]
  },
  {
   "cell_type": "markdown",
   "id": "cd2cb8d2",
   "metadata": {},
   "source": [
    "Note: some functions are similar across the files since most of these scripts were run concurrently"
   ]
  },
  {
   "cell_type": "code",
   "execution_count": 1,
   "id": "2c8b2e7f",
   "metadata": {},
   "outputs": [],
   "source": [
    "import pandas as pd\n",
    "import os\n",
    "from collections import Counter"
   ]
  },
  {
   "cell_type": "code",
   "execution_count": 5,
   "id": "f152483d",
   "metadata": {},
   "outputs": [],
   "source": [
    "kl = pd.read_csv('kenneth_lay.csv')"
   ]
  },
  {
   "cell_type": "code",
   "execution_count": 6,
   "id": "d2d913a6",
   "metadata": {},
   "outputs": [],
   "source": [
    "kl = kl.drop('Unnamed: 0', axis=1)\n",
    "kl = kl[['from_email', 'message_id', 'to_email', 'date', 'subject', 'body']]"
   ]
  },
  {
   "cell_type": "code",
   "execution_count": 24,
   "id": "f34d43d2",
   "metadata": {},
   "outputs": [],
   "source": [
    "# get all words in from the body\n",
    "all_words = []\n",
    "for text in kl['body']:\n",
    "    all_words += text.replace('[', '').replace(']', '').split(',')"
   ]
  },
  {
   "cell_type": "code",
   "execution_count": 32,
   "id": "f73bd571",
   "metadata": {},
   "outputs": [],
   "source": [
    "def replace_punctuation(word):\n",
    "        \n",
    "    # Replaces punctuation with a space\n",
    "    new = ''\n",
    "    for i in range(len(word)):\n",
    "        if word[i] not in '.,\\;-—:\\\"!?-[] ':\n",
    "            new += word[i].lower()\n",
    "        else:\n",
    "            new += ''\n",
    "            \n",
    "    return new"
   ]
  },
  {
   "cell_type": "code",
   "execution_count": 39,
   "id": "5c247a63",
   "metadata": {},
   "outputs": [],
   "source": [
    "# Gets rid of all punctuation\n",
    "new_words = []\n",
    "for word in all_words:\n",
    "    new = replace_punctuation(str(word))\n",
    "    new_words.append(new)\n",
    "\n",
    "# gets rid of additional quotes generated\n",
    "newer_words = []\n",
    "for word in new_words:\n",
    "    newer_words.append(word[1:-1])"
   ]
  },
  {
   "cell_type": "code",
   "execution_count": 70,
   "id": "2b151c2c",
   "metadata": {},
   "outputs": [],
   "source": [
    "# look for frequency of words that are of length greater than 5\n",
    "word_freq = {}\n",
    "\n",
    "for word in newer_words:\n",
    "    if len(word) > 5:\n",
    "        word_freq[word] = word_freq.get(word, 0) + 1"
   ]
  },
  {
   "cell_type": "code",
   "execution_count": 71,
   "id": "70bb918c",
   "metadata": {},
   "outputs": [],
   "source": [
    "Counter(word_freq).most_common()\n",
    "# Top words of interest: 'energy','president','california'"
   ]
  }
 ],
 "metadata": {
  "kernelspec": {
   "display_name": "Python 3",
   "language": "python",
   "name": "python3"
  },
  "language_info": {
   "codemirror_mode": {
    "name": "ipython",
    "version": 3
   },
   "file_extension": ".py",
   "mimetype": "text/x-python",
   "name": "python",
   "nbconvert_exporter": "python",
   "pygments_lexer": "ipython3",
   "version": "3.8.8"
  }
 },
 "nbformat": 4,
 "nbformat_minor": 5
}
